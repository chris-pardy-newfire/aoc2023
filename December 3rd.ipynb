{
 "cells": [
  {
   "cell_type": "markdown",
   "metadata": {},
   "source": [
    "# Day 3: Gear Ratios"
   ]
  },
  {
   "cell_type": "markdown",
   "metadata": {},
   "source": [
    "## Part One"
   ]
  },
  {
   "cell_type": "markdown",
   "metadata": {},
   "source": [
    "You and the Elf eventually reach a gondola lift station; he says the gondola lift will take you up to the water source, but this is as far as he can bring you. You go inside.\n",
    "\n",
    "It doesn't take long to find the gondolas, but there seems to be a problem: they're not moving.\n",
    "\n",
    "\"Aaah!\"\n",
    "\n",
    "You turn around to see a slightly-greasy Elf with a wrench and a look of surprise. \"Sorry, I wasn't expecting anyone! The gondola lift isn't working right now; it'll still be a while before I can fix it.\" You offer to help.\n",
    "\n",
    "The engineer explains that an engine part seems to be missing from the engine, but nobody can figure out which one. If you can add up all the part numbers in the engine schematic, it should be easy to work out which part is missing.\n",
    "\n",
    "The engine schematic (your puzzle input) consists of a visual representation of the engine. There are lots of numbers and symbols you don't really understand, but apparently any number adjacent to a symbol, even diagonally, is a \"part number\" and should be included in your sum. (Periods (.) do not count as a symbol.)\n",
    "\n",
    "Here is an example engine schematic:"
   ]
  },
  {
   "cell_type": "code",
   "execution_count": 10,
   "metadata": {},
   "outputs": [
    {
     "data": {
      "text/plain": [
       "10-element Vector{String}:\n",
       " \"467..114..\"\n",
       " \"...*......\"\n",
       " \"..35..633.\"\n",
       " \"......#...\"\n",
       " \"617*......\"\n",
       " \".....+.58.\"\n",
       " \"..592.....\"\n",
       " \"......755.\"\n",
       " \"...\\$.*....\"\n",
       " \".664.598..\""
      ]
     },
     "execution_count": 10,
     "metadata": {},
     "output_type": "execute_result"
    }
   ],
   "source": [
    "example = [\n",
    "    \"467..114..\",\n",
    "    \"...*......\",\n",
    "    \"..35..633.\",\n",
    "    \"......#...\",\n",
    "    \"617*......\",\n",
    "    \".....+.58.\",\n",
    "    \"..592.....\",\n",
    "    \"......755.\",\n",
    "    \"...\\$.*....\",\n",
    "    \".664.598..\"\n",
    "]"
   ]
  },
  {
   "cell_type": "markdown",
   "metadata": {},
   "source": [
    "In this schematic, two numbers are not part numbers because they are not adjacent to a symbol: 114 (top right) and 58 (middle right). Every other number is adjacent to a symbol and so is a part number; their sum is 4361.\n",
    "\n",
    "Of course, the actual engine schematic is much larger. What is the sum of all of the part numbers in the engine schematic?\n",
    "\n"
   ]
  },
  {
   "cell_type": "code",
   "execution_count": 11,
   "metadata": {},
   "outputs": [
    {
     "data": {
      "text/plain": [
       "4361"
      ]
     },
     "execution_count": 11,
     "metadata": {},
     "output_type": "execute_result"
    }
   ],
   "source": [
    "function findnumber(ln, start)\n",
    "    for i in start:lastindex(ln)\n",
    "        if isdigit(ln[i])\n",
    "            for j in i:lastindex(ln)\n",
    "                if isdigit(ln[j])\n",
    "                    continue\n",
    "                end\n",
    "                return (i:j-1, parse(Int, ln[i:j-1]))\n",
    "            end\n",
    "            return (i:lastindex(ln), parse(Int, ln[i:end]))\n",
    "        end\n",
    "    end\n",
    "    nothing\n",
    "end\n",
    "\n",
    "function findnumbers(contents)\n",
    "    numbers = []\n",
    "    for y in firstindex(contents):lastindex(contents)\n",
    "        searchindex = firstindex(contents[y])\n",
    "        r = findnumber(contents[y], searchindex)\n",
    "        while r !== nothing\n",
    "            (xrange, value) = r\n",
    "            searchindex = xrange.stop + 1\n",
    "            push!(numbers, (y, xrange, value))\n",
    "            r = findnumber(contents[y], searchindex)\n",
    "        end\n",
    "    end\n",
    "    return numbers\n",
    "end\n",
    "\n",
    "function isajacenttosymbol(val, contents)\n",
    "    (y, xrange) = val\n",
    "    for yidx in max(firstindex(contents), y - 1):min(lastindex(contents), y + 1)\n",
    "        for xidx in max(firstindex(contents[yidx]), xrange.start - 1):min(lastindex(contents[yidx]), xrange.stop + 1)\n",
    "            if isdigit(contents[yidx][xidx])\n",
    "                continue\n",
    "            elseif contents[yidx][xidx] == '.'\n",
    "                continue\n",
    "            else\n",
    "                return true\n",
    "            end\n",
    "        end\n",
    "    end\n",
    "    return false\n",
    "end\n",
    "\n",
    "function partone(contents)\n",
    "    parts = findnumbers(contents)\n",
    "    sum(map(x -> x[3], filter(val -> isajacenttosymbol(val, contents), parts)))\n",
    "end\n",
    "\n",
    "partone(example)"
   ]
  },
  {
   "cell_type": "markdown",
   "metadata": {},
   "source": [
    "## Part Two"
   ]
  },
  {
   "cell_type": "markdown",
   "metadata": {},
   "source": [
    "The engineer finds the missing part and installs it in the engine! As the engine springs to life, you jump in the closest gondola, finally ready to ascend to the water source.\n",
    "\n",
    "You don't seem to be going very fast, though. Maybe something is still wrong? Fortunately, the gondola has a phone labeled \"help\", so you pick it up and the engineer answers.\n",
    "\n",
    "Before you can explain the situation, she suggests that you look out the window. There stands the engineer, holding a phone in one hand and waving with the other. You're going so slowly that you haven't even left the station. You exit the gondola.\n",
    "\n",
    "The missing part wasn't the only issue - one of the gears in the engine is wrong. A gear is any * symbol that is adjacent to exactly two part numbers. Its gear ratio is the result of multiplying those two numbers together.\n",
    "\n",
    "This time, you need to find the gear ratio of every gear and add them all up so that the engineer can figure out which gear needs to be replaced.\n",
    "\n",
    "Consider the same engine schematic again:"
   ]
  },
  {
   "cell_type": "code",
   "execution_count": 12,
   "metadata": {},
   "outputs": [
    {
     "data": {
      "text/plain": [
       "10-element Vector{String}:\n",
       " \"467..114..\"\n",
       " \"...*......\"\n",
       " \"..35..633.\"\n",
       " \"......#...\"\n",
       " \"617*......\"\n",
       " \".....+.58.\"\n",
       " \"..592.....\"\n",
       " \"......755.\"\n",
       " \"...\\$.*....\"\n",
       " \".664.598..\""
      ]
     },
     "execution_count": 12,
     "metadata": {},
     "output_type": "execute_result"
    }
   ],
   "source": [
    "example"
   ]
  },
  {
   "cell_type": "markdown",
   "metadata": {},
   "source": [
    "\n",
    "In this schematic, there are two gears. The first is in the top left; it has part numbers 467 and 35, so its gear ratio is 16345. The second gear is in the lower right; its gear ratio is 451490. (The * adjacent to 617 is not a gear because it is only adjacent to one part number.) Adding up all of the gear ratios produces 467835.\n",
    "\n",
    "What is the sum of all of the gear ratios in your engine schematic?\n",
    "\n"
   ]
  },
  {
   "cell_type": "code",
   "execution_count": 13,
   "metadata": {},
   "outputs": [
    {
     "data": {
      "text/plain": [
       "467835"
      ]
     },
     "execution_count": 13,
     "metadata": {},
     "output_type": "execute_result"
    }
   ],
   "source": [
    "function findgears(contents)\n",
    "    [(y, x) for y in firstindex(contents):lastindex(contents) for x in firstindex(contents[y]):lastindex(contents[y]) if contents[y][x] === '*']\n",
    "end\n",
    "\n",
    "function gearratios(gear, parts)\n",
    "    (y, x) = gear\n",
    "    adj = []\n",
    "    for (yidx, xrange, partnum) in parts\n",
    "        if yidx == y - 1 || yidx == y || yidx == y + 1\n",
    "            if x - 1 in xrange || x in xrange || x + 1 in xrange\n",
    "                push!(adj, partnum)\n",
    "            end\n",
    "        end\n",
    "    end\n",
    "    if length(adj) == 2\n",
    "        return prod(adj)\n",
    "    end\n",
    "    return 0\n",
    "end\n",
    "\n",
    "function parttwo(contents)\n",
    "    parts = findnumbers(contents)\n",
    "    gears = findgears(contents)\n",
    "    sum(map(gear -> gearratios(gear, parts), gears))\n",
    "end\n",
    "\n",
    "parttwo(example)"
   ]
  },
  {
   "cell_type": "markdown",
   "metadata": {},
   "source": [
    "# Results"
   ]
  },
  {
   "cell_type": "code",
   "execution_count": 14,
   "metadata": {},
   "outputs": [
    {
     "name": "stdout",
     "output_type": "stream",
     "text": [
      "527364\n",
      "79026871\n"
     ]
    }
   ],
   "source": [
    "include(\"./aoc.jl\")\n",
    "execute(3, partone, parttwo)"
   ]
  }
 ],
 "metadata": {
  "kernelspec": {
   "display_name": "Julia 1.9.4",
   "language": "julia",
   "name": "julia-1.9"
  },
  "language_info": {
   "file_extension": ".jl",
   "mimetype": "application/julia",
   "name": "julia",
   "version": "1.9.4"
  }
 },
 "nbformat": 4,
 "nbformat_minor": 4
}
