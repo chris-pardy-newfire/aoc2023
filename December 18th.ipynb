{
 "cells": [
  {
   "cell_type": "markdown",
   "metadata": {},
   "source": [
    "# December 18th"
   ]
  },
  {
   "cell_type": "markdown",
   "metadata": {},
   "source": [
    "We're doing the area inside an arbitrary path again. Input is 784 lines which will translate to 784 path segments."
   ]
  },
  {
   "cell_type": "code",
   "execution_count": 1,
   "metadata": {},
   "outputs": [
    {
     "data": {
      "text/plain": [
       "62"
      ]
     },
     "execution_count": 1,
     "metadata": {},
     "output_type": "execute_result"
    }
   ],
   "source": [
    "example = [\n",
    "    \"R 6 (#70c710)\",\n",
    "    \"D 5 (#0dc571)\",\n",
    "    \"L 2 (#5713f0)\",\n",
    "    \"D 2 (#d2c081)\",\n",
    "    \"R 2 (#59c680)\",\n",
    "    \"D 2 (#411b91)\",\n",
    "    \"L 5 (#8ceee2)\",\n",
    "    \"U 2 (#caa173)\",\n",
    "    \"L 1 (#1b58a2)\",\n",
    "    \"U 2 (#caa171)\",\n",
    "    \"R 2 (#7807d2)\",\n",
    "    \"U 3 (#a77fa3)\",\n",
    "    \"L 2 (#015232)\",\n",
    "    \"U 2 (#7a21e3)\"\n",
    "]\n",
    "\n",
    "examplepartoneresult = 62\n"
   ]
  },
  {
   "cell_type": "markdown",
   "metadata": {},
   "source": [
    "Even though they're showing us this on a grid we can just treat these as arbitrary path segments. Let's turn our input into a collection of path segements."
   ]
  },
  {
   "cell_type": "code",
   "execution_count": 2,
   "metadata": {},
   "outputs": [
    {
     "name": "stdout",
     "output_type": "stream",
     "text": [
      "Any[PathSegment((0:1:0, 0:1:6)), PathSegment((0:1:5, 6:1:6)), PathSegment((5:1:5, 6:-1:4)), PathSegment((5:1:7, 4:1:4)), PathSegment((7:1:7, 4:1:6)), PathSegment((7:1:9, 6:1:6)), PathSegment((9:1:9, 6:-1:1)), PathSegment((9:-1:7, 1:1:1)), PathSegment((7:1:7, 1:-1:0)), PathSegment((7:-1:5, 0:1:0)), PathSegment((5:1:5, 0:1:2)), PathSegment((5:-1:2, 2:1:2)), PathSegment((2:1:2, 2:-1:0)), PathSegment((2:-1:0, 0:1:0))]\n",
      "(0:9, 0:6)\n"
     ]
    }
   ],
   "source": [
    "struct PathSegment\n",
    "    vector::Tuple{AbstractRange{Int},AbstractRange{Int}}\n",
    "end\n",
    "\n",
    "function parsecontents(contents)\n",
    "    segements = []\n",
    "    start = (0, 0)\n",
    "    for line in contents\n",
    "        (d, s) = split(line)\n",
    "        dv = if d == \"U\"\n",
    "            (-1, 0)\n",
    "        elseif d == \"D\"\n",
    "            (1, 0)\n",
    "        elseif d == \"R\"\n",
    "            (0, 1)\n",
    "        else\n",
    "            (0, -1)\n",
    "        end\n",
    "        stop = start .+ (dv .* parse(Int, s))\n",
    "        push!(segements, PathSegment((\n",
    "            range(start[1], stop[1], step=dv[1] == 0 ? 1 : dv[1]),\n",
    "            range(start[2], stop[2], step=dv[2] == 0 ? 1 : dv[2])\n",
    "        )))\n",
    "        start = stop\n",
    "    end\n",
    "    return segements\n",
    "end\n",
    "\n",
    "println(parsecontents(example))\n",
    "\n",
    "function determinebounds(segments)\n",
    "    ymin = min(segments[begin].vector[1].start, segments[begin].vector[1].stop)\n",
    "    ymax = max(segments[begin].vector[1].start, segments[begin].vector[1].stop)\n",
    "    xmin = min(segments[begin].vector[2].start, segments[begin].vector[2].stop)\n",
    "    xmax = max(segments[begin].vector[2].start, segments[begin].vector[2].stop)\n",
    "    for segment in segments\n",
    "        ymin = min(segment.vector[1].start, segment.vector[1].stop, ymin)\n",
    "        ymax = max(segment.vector[1].start, segment.vector[1].stop, ymax)\n",
    "        xmin = min(segment.vector[2].start, segment.vector[2].stop, xmin)\n",
    "        xmax = max(segment.vector[2].start, segment.vector[2].stop, xmax)\n",
    "    end\n",
    "    return (ymin:ymax, xmin:xmax)\n",
    "end\n",
    "\n",
    "println(determinebounds(parsecontents(example)))"
   ]
  },
  {
   "cell_type": "markdown",
   "metadata": {},
   "source": [
    "Now with our path segements it's time to dust off our \"inside the path\" function from December 10th"
   ]
  },
  {
   "cell_type": "code",
   "execution_count": 3,
   "metadata": {},
   "outputs": [
    {
     "data": {
      "text/plain": [
       "getfilled (generic function with 1 method)"
      ]
     },
     "execution_count": 3,
     "metadata": {},
     "output_type": "execute_result"
    }
   ],
   "source": [
    "function isvertical(segement::PathSegment)\n",
    "    return segement.vector[2].start == segement.vector[2].stop\n",
    "end\n",
    "\n",
    "function isonline(segments, position)\n",
    "    any(\n",
    "        segment -> !any(isempty, intersect.(segment.vector, position)),\n",
    "        segments\n",
    "    )\n",
    "end\n",
    "\n",
    "## adaptation of the even/odd rule for shape filing in vector graphics\n",
    "function isenclosed(segments, position, bounds::Tuple{UnitRange{Int},UnitRange{Int}})\n",
    "    ## track the number of times we cross a path segement\n",
    "    intersections = 0\n",
    "    ## track how many corners we could go over\n",
    "    unders = 0\n",
    "    ## track how many corners we could go under\n",
    "    overs = 0\n",
    "    ## go from the position to the left edge in a stright line\n",
    "    xrange = range(position[2] - 1, bounds[2].start, step=-1)\n",
    "    intersecting = filter(\n",
    "        segment -> isvertical(segment) && !any(isempty, intersect.(segment.vector, (position[1], xrange))),\n",
    "        segments\n",
    "    )\n",
    "    for segment in intersecting\n",
    "        if min(segment.vector[1].start, segment.vector[1].stop) == position[1]\n",
    "            unders += 1\n",
    "        elseif max(segment.vector[1].start, segment.vector[1].stop) == position[1]\n",
    "            overs += 1\n",
    "        else\n",
    "            intersections += 1\n",
    "        end\n",
    "    end\n",
    "    ## we must cross | pipes, we have to cross a pair of corers that we can go over and under, use min to count pairs\n",
    "    ## eg. |F7J <- this is 2 crossings since we go through the |, over the F and 7, and through the J\n",
    "    ## if we cross an odd number of lines then we must be encosed by the shape, otherwise we are not.\n",
    "    return isodd(intersections + min(unders, overs))\n",
    "end\n",
    "\n",
    "function getfilled(segments, bounds)\n",
    "    yoffset = 1 - bounds[1].start\n",
    "    xoffset = 1 - bounds[2].start\n",
    "    grid = fill(false, (length(bounds[1]), length(bounds[2])))\n",
    "    for y in bounds[1]\n",
    "        for x in bounds[2]\n",
    "            if isonline(segments, (y, x)) #|| isenclosed(segments, (y, x), bounds)\n",
    "                grid[y+yoffset, x+xoffset] = true\n",
    "            end\n",
    "        end\n",
    "    end\n",
    "    return grid\n",
    "end\n",
    "\n"
   ]
  },
  {
   "cell_type": "markdown",
   "metadata": {},
   "source": [
    "Part one took 20 minutes using the `isenclosed` function this seems to be driven by the large number of squares to consdier. Instead of doing it\n",
    "with enclosure lets find squares to fit inside the space."
   ]
  },
  {
   "cell_type": "markdown",
   "metadata": {},
   "source": [
    "First we'll want to segment horizontal and vertical lines and sort them by their starting points"
   ]
  },
  {
   "cell_type": "code",
   "execution_count": 4,
   "metadata": {},
   "outputs": [
    {
     "data": {
      "text/plain": [
       "(Any[PathSegment((7:-1:5, 0:1:0)), PathSegment((2:-1:0, 0:1:0)), PathSegment((9:-1:7, 1:1:1)), PathSegment((5:-1:2, 2:1:2)), PathSegment((5:1:7, 4:1:4)), PathSegment((0:1:5, 6:1:6)), PathSegment((7:1:9, 6:1:6))], Any[PathSegment((0:1:0, 0:1:6)), PathSegment((2:1:2, 2:-1:0)), PathSegment((5:1:5, 6:-1:4)), PathSegment((5:1:5, 0:1:2)), PathSegment((7:1:7, 4:1:6)), PathSegment((7:1:7, 1:-1:0)), PathSegment((9:1:9, 6:-1:1))])"
      ]
     },
     "execution_count": 4,
     "metadata": {},
     "output_type": "execute_result"
    }
   ],
   "source": [
    "function vandh(segments)\n",
    "    vsegments = []\n",
    "    hsegments = []\n",
    "    for segment in segments\n",
    "        if isvertical(segment)\n",
    "            push!(vsegments, segment)\n",
    "        else\n",
    "            push!(hsegments, segment)\n",
    "        end\n",
    "    end\n",
    "    sort!(vsegments, lt=(s1, s2) -> s1.vector[2].start < s2.vector[2].start)\n",
    "    sort!(hsegments, lt=(s1, s2) -> s1.vector[1].start < s2.vector[1].start)\n",
    "    return (vsegments, hsegments)\n",
    "end\n",
    "\n",
    "vandh(parsecontents(example))"
   ]
  },
  {
   "cell_type": "markdown",
   "metadata": {},
   "source": [
    "Next we'll write a recursive divide and conquer algorithm to find area inside the lines"
   ]
  },
  {
   "cell_type": "code",
   "execution_count": 17,
   "metadata": {},
   "outputs": [
    {
     "data": {
      "text/plain": [
       "getarea (generic function with 1 method)"
      ]
     },
     "execution_count": 17,
     "metadata": {},
     "output_type": "execute_result"
    }
   ],
   "source": [
    "function recover(coverage, normalize)\n",
    "    result = []\n",
    "    for i in firstindex(coverage):lastindex(coverage)\n",
    "        if normalize.start == coverage[i].start || normalize.stop == coverage[i].stop\n",
    "            ## strink from the bottom or top\n",
    "            r = if normalize.start == coverage[i].start\n",
    "                normalize.stop:coverage[i].stop\n",
    "            else\n",
    "                coverage[i].start:normalize.start\n",
    "            end\n",
    "            if length(r) > 1\n",
    "                push!(result, r)\n",
    "            end\n",
    "            push!(result, coverage[i+1:end]...)\n",
    "            return result\n",
    "        end\n",
    "\n",
    "        if normalize.start == coverage[i].stop || normalize.stop == coverage[i].start\n",
    "            r = (min(coverage[i].start, normalize.start):max(coverage[i].stop, normalize.stop))\n",
    "            if i < lastindex(coverage) && r.stop == coverage[i+1].start\n",
    "                r = r.start:coverage[i+1].stop\n",
    "                i += 1\n",
    "            end\n",
    "            push!(result, r, coverage[i+1:end]...)\n",
    "            return result\n",
    "        end\n",
    "\n",
    "        if normalize.start > coverage[i].start && normalize.stop < coverage[i].stop\n",
    "            r1 = coverage[i].start:normalize.start\n",
    "            r2 = normalize.stop:coverage[i].stop\n",
    "            push!(result, r1, r2, coverage[i+1:end]...)\n",
    "            return result\n",
    "        end\n",
    "\n",
    "        if normalize.stop < coverage[i].start\n",
    "            push!(result, normalize, coverage[i:end]...)\n",
    "            return result\n",
    "        end\n",
    "\n",
    "        push!(result, coverage[i])\n",
    "\n",
    "    end\n",
    "\n",
    "    push!(result, normalize)\n",
    "    return result\n",
    "\n",
    "end\n",
    "\n",
    "function takeallforx!(vsegments)\n",
    "    if isempty(vsegments)\n",
    "        return []\n",
    "    end\n",
    "    r = [popfirst!(vsegments)]\n",
    "    x = r[begin].vector[2].start\n",
    "    while !isempty(vsegments)\n",
    "        if vsegments[begin].vector[2].start == x\n",
    "            push!(r, popfirst!(vsegments))\n",
    "        else\n",
    "            break\n",
    "        end\n",
    "    end\n",
    "    return r\n",
    "end\n",
    "\n",
    "function normalizerange(v)\n",
    "    min(v.vector[1].start, v.vector[1].stop):max(v.vector[1].start, v.vector[1].stop)\n",
    "end\n",
    "\n",
    "function getarea(segments, bounds)\n",
    "    (vsegments, _) = vandh(segments)\n",
    "    coverage = []\n",
    "    area = 0\n",
    "    previousx = bounds[2].start\n",
    "    while !isempty(vsegments)\n",
    "        increment = sum(map(length, coverage), init=0)\n",
    "        n = takeallforx!(vsegments)\n",
    "        x = n[begin].vector[2].start\n",
    "        for norm in map(normalizerange, n)\n",
    "            coverage = recover(coverage, norm)\n",
    "        end\n",
    "        nextincrement = sum(map(length, coverage), init=0)\n",
    "\n",
    "        factor = x - previousx + 1\n",
    "        ni = min(nextincrement, increment)\n",
    "\n",
    "        area += (increment * factor) - ni\n",
    "        previousx = x\n",
    "    end\n",
    "\n",
    "    return area\n",
    "end\n"
   ]
  },
  {
   "cell_type": "markdown",
   "metadata": {},
   "source": [
    "## Partone\n",
    "but it's super inefficient. We'll have to look into why as we get into Part2"
   ]
  },
  {
   "cell_type": "code",
   "execution_count": 6,
   "metadata": {},
   "outputs": [
    {
     "data": {
      "text/plain": [
       "62"
      ]
     },
     "execution_count": 6,
     "metadata": {},
     "output_type": "execute_result"
    }
   ],
   "source": [
    "function partone(contents)\n",
    "    segments = parsecontents(contents)\n",
    "    getarea(segments, determinebounds(segments))\n",
    "end\n",
    "\n",
    "partone(example)"
   ]
  },
  {
   "cell_type": "markdown",
   "metadata": {},
   "source": [
    "## Part Two"
   ]
  },
  {
   "cell_type": "markdown",
   "metadata": {},
   "source": [
    "So we didn't need the colors after all"
   ]
  },
  {
   "cell_type": "code",
   "execution_count": 15,
   "metadata": {},
   "outputs": [
    {
     "data": {
      "text/plain": [
       "parsecontentparttwo (generic function with 1 method)"
      ]
     },
     "execution_count": 15,
     "metadata": {},
     "output_type": "execute_result"
    }
   ],
   "source": [
    "function parsecontentparttwo(contents)\n",
    "    segements = []\n",
    "    start = (0, 0)\n",
    "    for line in contents\n",
    "        (_, _, c) = split(line)\n",
    "        d = c[end-1]\n",
    "        s = c[begin+2:end-2]\n",
    "        dv = if d == '3'\n",
    "            (-1, 0)\n",
    "        elseif d == '1'\n",
    "            (1, 0)\n",
    "        elseif d == '0'\n",
    "            (0, 1)\n",
    "        else\n",
    "            (0, -1)\n",
    "        end\n",
    "        stop = start .+ (dv .* parse(Int, s, base=16))\n",
    "        push!(segements, PathSegment((\n",
    "            range(start[1], stop[1], step=dv[1] == 0 ? 1 : dv[1]),\n",
    "            range(start[2], stop[2], step=dv[2] == 0 ? 1 : dv[2])\n",
    "        )))\n",
    "        start = stop\n",
    "    end\n",
    "    return segements\n",
    "end"
   ]
  },
  {
   "cell_type": "code",
   "execution_count": 19,
   "metadata": {},
   "outputs": [
    {
     "name": "stdout",
     "output_type": "stream",
     "text": [
      "952408144115\n",
      "952408144115\n"
     ]
    }
   ],
   "source": [
    "function parttwo(contents)\n",
    "    segments = parsecontentparttwo(contents)\n",
    "    getarea(segments, determinebounds(segments))\n",
    "end\n",
    "\n",
    "println(parttwo(example))\n",
    "println(952408144115)"
   ]
  },
  {
   "cell_type": "markdown",
   "metadata": {},
   "source": [
    "## Result"
   ]
  },
  {
   "cell_type": "code",
   "execution_count": 20,
   "metadata": {},
   "outputs": [
    {
     "name": "stdout",
     "output_type": "stream",
     "text": [
      "68016\n",
      "71262565063800\n"
     ]
    }
   ],
   "source": [
    "include(\"./aoc.jl\")\n",
    "\n",
    "execute(18, partone, parttwo)"
   ]
  },
  {
   "cell_type": "markdown",
   "metadata": {},
   "source": [
    "LUCA"
   ]
  },
  {
   "cell_type": "markdown",
   "metadata": {},
   "source": []
  }
 ],
 "metadata": {
  "kernelspec": {
   "display_name": "Julia 1.9.4",
   "language": "julia",
   "name": "julia-1.9"
  },
  "language_info": {
   "file_extension": ".jl",
   "mimetype": "application/julia",
   "name": "julia",
   "version": "1.9.4"
  }
 },
 "nbformat": 4,
 "nbformat_minor": 2
}
