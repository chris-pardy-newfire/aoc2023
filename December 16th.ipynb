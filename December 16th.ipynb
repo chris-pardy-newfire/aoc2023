{
 "cells": [
  {
   "cell_type": "markdown",
   "metadata": {},
   "source": [
    "# December 16th - The floor will be lava..."
   ]
  },
  {
   "cell_type": "code",
   "execution_count": 31,
   "metadata": {},
   "outputs": [
    {
     "data": {
      "text/plain": [
       "46"
      ]
     },
     "execution_count": 31,
     "metadata": {},
     "output_type": "execute_result"
    }
   ],
   "source": [
    "example = [\n",
    "    \".|...\\\\....\",\n",
    "    \"|.-.\\\\.....\",\n",
    "    \".....|-...\",\n",
    "    \"........|.\",\n",
    "    \"..........\",\n",
    "    \".........\\\\\",\n",
    "    \"..../.\\\\\\\\..\",\n",
    "    \".-.-/..|..\",\n",
    "    \".|....-|.\\\\\",\n",
    "    \"..//.|....\"\n",
    "]\n",
    "\n",
    "examplepartoneresult = 46"
   ]
  },
  {
   "cell_type": "markdown",
   "metadata": {},
   "source": [
    "This one seems like the sort of problem that a is going to involve pathfinding on the second part of this."
   ]
  },
  {
   "cell_type": "code",
   "execution_count": 32,
   "metadata": {},
   "outputs": [
    {
     "data": {
      "text/plain": [
       "stepall (generic function with 1 method)"
      ]
     },
     "execution_count": 32,
     "metadata": {},
     "output_type": "execute_result"
    }
   ],
   "source": [
    "struct Node\n",
    "    nodetype::Char\n",
    "    connections::Array{Union{Nothing,Node}}\n",
    "    coordinates::Tuple{Int,Int}\n",
    "end\n",
    "\n",
    "function makenodes(contents)\n",
    "    ## start by seeding the nodemap\n",
    "    nodemap = Dict()\n",
    "    for y in firstindex(contents, 1):lastindex(contents, 1)\n",
    "        for x in firstindex(contents, 2):lastindex(contents, 2)\n",
    "            if contents[y, x] != '.'\n",
    "                nodemap[(y, x)] = Node(contents[y, x], fill(nothing, 4), (y, x))\n",
    "            end\n",
    "        end\n",
    "    end\n",
    "    ## connect the nodes\n",
    "    for (_, node) in nodemap\n",
    "        ## set outgoing connections\n",
    "        (ny, nx) = node.coordinates\n",
    "        ## north\n",
    "        for y in range(ny - 1, firstindex(contents, 1), step=-1)\n",
    "            if contents[y, nx] != '.' && contents[y, nx] != '|'\n",
    "                node.connections[1] = nodemap[(y, nx)]\n",
    "                break\n",
    "            end\n",
    "        end\n",
    "        ## east\n",
    "        for x in range(nx + 1, lastindex(contents, 1), step=1)\n",
    "            if contents[ny, x] != '.' && contents[ny, x] != '-'\n",
    "                node.connections[2] = nodemap[(ny, x)]\n",
    "                break\n",
    "            end\n",
    "        end\n",
    "        ## south\n",
    "        for y in range(ny + 1, lastindex(contents, 1), step=1)\n",
    "            if contents[y, nx] != '.' && contents[y, nx] != '|'\n",
    "                node.connections[3] = nodemap[(y, nx)]\n",
    "                break\n",
    "            end\n",
    "        end\n",
    "        ## west\n",
    "        for x in range(nx - 1, firstindex(contents, 1), step=-1)\n",
    "            if contents[ny, x] != '.' && contents[ny, x] != '-'\n",
    "                node.connections[4] = nodemap[(ny, x)]\n",
    "                break\n",
    "            end\n",
    "        end\n",
    "    end\n",
    "    return nodemap\n",
    "end\n",
    "\n",
    "function createstartnode(nodemap, contents)\n",
    "    startnode = Node('S', fill(nothing, 4), (1, 0))\n",
    "    ## east\n",
    "    for x in firstindex(contents, 1):lastindex(contents, 1)\n",
    "        if contents[1, x] != '.' && contents[1, x] != '-'\n",
    "            startnode.connections[2] = nodemap[(1, x)]\n",
    "            break\n",
    "        end\n",
    "    end\n",
    "    return startnode\n",
    "end\n",
    "\n",
    "function nextstep(node, direction, field)\n",
    "    nextnode = node.connections[direction]\n",
    "    if isnothing(nextnode)\n",
    "        if direction == 1\n",
    "            field[begin:node.coordinates[1], node.coordinates[2]] .= true\n",
    "        elseif direction == 2\n",
    "            field[node.coordinates[1], node.coordinates[2]:end] .= true\n",
    "        elseif direction == 3\n",
    "            field[node.coordinates[1]:end, node.coordinates[2]] .= true\n",
    "        else\n",
    "            field[node.coordinates[1], begin:node.coordinates[2]] .= true\n",
    "        end\n",
    "        return []\n",
    "    end\n",
    "    field[\n",
    "        min(node.coordinates[1], nextnode.coordinates[1]):max(node.coordinates[1], nextnode.coordinates[1]),\n",
    "        max(min(node.coordinates[2], nextnode.coordinates[2]), 1):max(node.coordinates[2], nextnode.coordinates[2])\n",
    "    ] .= true\n",
    "    if nextnode.nodetype == '|'\n",
    "        return [(nextnode, 1), (nextnode, 3)]\n",
    "    elseif nextnode.nodetype == '-'\n",
    "        return [(nextnode, 2), (nextnode, 4)]\n",
    "    elseif nextnode.nodetype == '/'\n",
    "        return [(nextnode, if direction == 1\n",
    "            2\n",
    "        elseif direction == 2\n",
    "            1\n",
    "        elseif direction == 3\n",
    "            4\n",
    "        else\n",
    "            3\n",
    "        end)]\n",
    "    else\n",
    "        return [(nextnode, if direction == 1\n",
    "            4\n",
    "        elseif direction == 2\n",
    "            3\n",
    "        elseif direction == 3\n",
    "            2\n",
    "        else\n",
    "            1\n",
    "        end\n",
    "        )]\n",
    "    end\n",
    "end\n",
    "\n",
    "function stepall(node, direction, field)\n",
    "    candidates = [(node, direction)]\n",
    "    visited = Set()\n",
    "    while length(candidates) > 0\n",
    "        candidate = pop!(candidates)\n",
    "        if candidate in visited\n",
    "            continue\n",
    "        end\n",
    "        push!(visited, candidate)\n",
    "        push!(candidates, nextstep(candidate[1], candidate[2], field)...)\n",
    "    end\n",
    "end"
   ]
  },
  {
   "cell_type": "code",
   "execution_count": 33,
   "metadata": {},
   "outputs": [
    {
     "data": {
      "text/plain": [
       "true"
      ]
     },
     "execution_count": 33,
     "metadata": {},
     "output_type": "execute_result"
    }
   ],
   "source": [
    "include(\"./aoc.jl\")\n",
    "\n",
    "function partone(contents)\n",
    "    grid = makegrid(contents)\n",
    "    field = fill(false, size(grid)...)\n",
    "    nodes = makenodes(grid)\n",
    "    startnode = createstartnode(nodes, grid)\n",
    "    stepall(startnode, 2, field)\n",
    "    return sum(field)\n",
    "end\n",
    "\n",
    "partone(example) == examplepartoneresult"
   ]
  },
  {
   "cell_type": "markdown",
   "metadata": {},
   "source": [
    "## Part 2\n",
    "\n",
    "Part 2 is all about find the most optimal start point. We can start on any node that doesn't have every edge connected."
   ]
  },
  {
   "cell_type": "code",
   "execution_count": 34,
   "metadata": {},
   "outputs": [
    {
     "data": {
      "text/plain": [
       "true"
      ]
     },
     "execution_count": 34,
     "metadata": {},
     "output_type": "execute_result"
    }
   ],
   "source": [
    "function findstartnodes(nodemap, grid)\n",
    "    starts = []\n",
    "    for (_, node) in nodemap\n",
    "        if isnothing(node.connections[1])\n",
    "            push!(starts, (Node('S', [nothing, nothing, node, nothing], (firstindex(grid, 1), node.coordinates[2])), 3))\n",
    "        end\n",
    "        if isnothing(node.connections[2])\n",
    "            push!(starts, (Node('S', [nothing, nothing, nothing, node], (node.coordinates[1], lastindex(grid, 2))), 4))\n",
    "        end\n",
    "        if isnothing(node.connections[3])\n",
    "            push!(starts, (Node('S', [node, nothing, nothing, nothing], (lastindex(grid, 1), node.coordinates[2])), 1))\n",
    "        end\n",
    "        if isnothing(node.connections[4])\n",
    "            push!(starts, (Node('S', [nothing, node, nothing, nothing], (node.coordinates[1], firstindex(grid, 2))), 2))\n",
    "        end\n",
    "    end\n",
    "    return starts\n",
    "end\n",
    "\n",
    "\n",
    "function parttwo(contents)\n",
    "    grid = makegrid(contents)\n",
    "    nodes = makenodes(grid)\n",
    "    startnodes = findstartnodes(nodes, grid)\n",
    "    max(map(startnodes) do (startnode, direction)\n",
    "        field = fill(false, size(grid)...)\n",
    "        stepall(startnode, direction, field)\n",
    "        sum(field)\n",
    "    end...)\n",
    "end\n",
    "\n",
    "parttwo(example) == 51"
   ]
  },
  {
   "cell_type": "markdown",
   "metadata": {},
   "source": [
    "## Results"
   ]
  },
  {
   "cell_type": "code",
   "execution_count": 35,
   "metadata": {},
   "outputs": [
    {
     "name": "stdout",
     "output_type": "stream",
     "text": [
      "7798\n",
      "8026\n"
     ]
    }
   ],
   "source": [
    "execute(16, partone, parttwo)"
   ]
  }
 ],
 "metadata": {
  "kernelspec": {
   "display_name": "Julia 1.9.4",
   "language": "julia",
   "name": "julia-1.9"
  },
  "language_info": {
   "file_extension": ".jl",
   "mimetype": "application/julia",
   "name": "julia",
   "version": "1.9.4"
  }
 },
 "nbformat": 4,
 "nbformat_minor": 2
}
