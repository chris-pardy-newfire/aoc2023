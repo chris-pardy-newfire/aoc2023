{
 "cells": [
  {
   "cell_type": "markdown",
   "metadata": {},
   "source": [
    "# Day 12: Hot Springs"
   ]
  },
  {
   "cell_type": "markdown",
   "metadata": {},
   "source": [
    "I'm going to do a slightly different format going forward and use this as a place to record thoughts.\n",
    "\n",
    "Part one of todays question is about finding the number of ways a pattern of numbers can fit into a partially known, partially unknown line.\n",
    "I've been playing a lot of nonnograms and this is effectively that but with only 1 axis."
   ]
  },
  {
   "cell_type": "code",
   "execution_count": 6,
   "metadata": {},
   "outputs": [
    {
     "data": {
      "text/plain": [
       "21"
      ]
     },
     "execution_count": 6,
     "metadata": {},
     "output_type": "execute_result"
    }
   ],
   "source": [
    "example = [\n",
    "    \"???.### 1,1,3\",\n",
    "    \".??..??...?##. 1,1,3\",\n",
    "    \"?#?#?#?#?#?#?#? 1,3,1,6\",\n",
    "    \"????.#...#... 4,1,1\",\n",
    "    \"????.######..#####. 1,6,5\",\n",
    "    \"?###???????? 3,2,1\"\n",
    "]\n",
    "\n",
    "examplepartonesolution = 21"
   ]
  },
  {
   "cell_type": "markdown",
   "metadata": {},
   "source": [
    "There's a bunch of math to find the number of permutations of a given sequence in a given space but it doesn't work well with the additional constraints so most of this math is unused.\n",
    "\n",
    "Given the length of a run and a known space the number of possibilities is:\n",
    "$$\n",
    "possibilities = space - run + 1\n",
    "$$\n",
    "\n",
    "given a series of numbers, instead of a single number the minimum space they occupy is\n",
    "\n",
    "$$\n",
    "minlength = (\\sum^{n}_{i=1} run_{i} + 1) - 1\n",
    "$$\n",
    "\n",
    "This assumes a gap of 1 between each number in the sequence, you can then use the minlength to compute the possibilities of this configuration.\n",
    "However any of the gaps can grow if there's space\n",
    "Reading some more theory on this it seems as though to distribute v extra spaces amonst n numbers you would get\n",
    "\n",
    "$$\n",
    "possibilities = {n-2+v \\choose n-2}\n",
    "$$\n",
    "\n",
    "you would need to consider this for all possibilities\n",
    "\n",
    "$$\n",
    "    \\sum^{extraspaces}_{v=0} {n-2+v \\choose n-2}\n",
    "$$"
   ]
  },
  {
   "cell_type": "code",
   "execution_count": 16,
   "metadata": {},
   "outputs": [
    {
     "name": "stdout",
     "output_type": "stream",
     "text": [
      "1\n",
      "3\n",
      "1\n",
      "3\n",
      "5\n",
      "36\n"
     ]
    }
   ],
   "source": [
    "## compute the min length\n",
    "function minlength(runlengths)\n",
    "    if length(runlengths) == 0\n",
    "        return 0\n",
    "    end\n",
    "    return sum(runlengths) + length(runlengths) - 1\n",
    "end\n",
    "\n",
    "## Compute the possibilites, while this is cool math it isn't useful\n",
    "function possibilities(space, runlengths)\n",
    "    n = length(runlengths)\n",
    "    extraspaces = space - minlength(runlengths)\n",
    "    binomial(n + extraspaces, n)\n",
    "end\n",
    "\n",
    "println(possibilities(4, (4)))\n",
    "println(possibilities(4, (2)))\n",
    "println(possibilities(4, (2, 1)))\n",
    "println(possibilities(5, (2, 1)))\n",
    "println(possibilities(15, (1, 3, 1, 6)))\n",
    "println(possibilities(15, (1, 1, 1, 1, 1, 1, 1)))"
   ]
  },
  {
   "cell_type": "markdown",
   "metadata": {},
   "source": [
    "It's easy to write a function to check if a configuration matches a given constraint"
   ]
  },
  {
   "cell_type": "code",
   "execution_count": 3,
   "metadata": {},
   "outputs": [
    {
     "data": {
      "text/plain": [
       "minlength (generic function with 1 method)"
      ]
     },
     "execution_count": 3,
     "metadata": {},
     "output_type": "execute_result"
    }
   ],
   "source": [
    "function meetsconstraints(constraint, configuration)\n",
    "    all(\n",
    "        c -> c[1] == '?' || c[1] == c[2],\n",
    "        zip(constraint, configuration)\n",
    "    )\n",
    "end\n",
    "\n",
    "meetsconstraints(['#', '?', '.', '?'], ['#', '#', '.', '.'])"
   ]
  },
  {
   "cell_type": "markdown",
   "metadata": {},
   "source": [
    "generating all the possibile valid configuration for a line could also be done recursively\n",
    "By combining this with the `meetsconstraints` function you get a reasonable solution to part one that first generates all possible permutations and then eliminates ones that aren't possible."
   ]
  },
  {
   "cell_type": "code",
   "execution_count": 21,
   "metadata": {},
   "outputs": [
    {
     "name": "stdout",
     "output_type": "stream",
     "text": [
      "Any[Any['#', '#', '#', '#']]\n",
      "Any[['#', '#', '.', '.'], ['.', '#', '#', '.'], Any['.', '.', '#', '#']]\n",
      "Any[['#', '#', '.', '#']]\n",
      "Any[['#', '.', '#', '#', '#', '.', '#', '.', '#', '#', '#', '#', '#', '#', '.'], ['#', '.', '#', '#', '#', '.', '#', '.', '.', '#', '#', '#', '#', '#', '#'], ['#', '.', '#', '#', '#', '.', '.', '#', '.', '#', '#', '#', '#', '#', '#'], ['#', '.', '.', '#', '#', '#', '.', '#', '.', '#', '#', '#', '#', '#', '#'], ['.', '#', '.', '#', '#', '#', '.', '#', '.', '#', '#', '#', '#', '#', '#']]\n",
      "Any[['#', '.', '#', '#', '#', '#', '#', '.', '.', '.'], ['#', '.', '.', '#', '#', '#', '#', '#', '.', '.'], ['#', '.', '.', '.', '#', '#', '#', '#', '#', '.'], ['#', '.', '.', '.', '.', '#', '#', '#', '#', '#'], ['.', '#', '.', '#', '#', '#', '#', '#', '.', '.'], ['.', '#', '.', '.', '#', '#', '#', '#', '#', '.'], ['.', '#', '.', '.', '.', '#', '#', '#', '#', '#'], ['.', '.', '#', '.', '#', '#', '#', '#', '#', '.'], ['.', '.', '#', '.', '.', '#', '#', '#', '#', '#'], ['.', '.', '.', '#', '.', '#', '#', '#', '#', '#']]\n"
     ]
    }
   ],
   "source": [
    "using Memoization\n",
    "\n",
    "@memoize Dict function possibleconfigurations(constraint, runlengths, leadingworkingspring)\n",
    "    valid(c) = meetsconstraints(constraint, c)\n",
    "    space = length(constraint)\n",
    "    minspace = minlength(runlengths)\n",
    "\n",
    "    if minspace == 0\n",
    "        if space == 0\n",
    "            return [[]]\n",
    "        end\n",
    "        allspaces = fill('.', space)\n",
    "        return valid(allspaces) ? [allspaces] : []\n",
    "    end\n",
    "\n",
    "    if leadingworkingspring\n",
    "        if constraint[begin] == '.' || constraint[begin] == '?'\n",
    "            return filter(\n",
    "                valid,\n",
    "                map(c -> ['.', c...], possibleconfigurations(constraint[begin+1:end], runlengths, false))\n",
    "            )\n",
    "        else\n",
    "            return []\n",
    "        end\n",
    "    end\n",
    "\n",
    "    if minspace > space\n",
    "        return []\n",
    "    end\n",
    "\n",
    "    (run, rest...) = runlengths\n",
    "    filter(valid, reduce(vcat,\n",
    "        map(\n",
    "            function (leadingspace)\n",
    "                a = vcat(fill('.', leadingspace), fill('#', run))\n",
    "                map(r -> vcat(a, r), possibleconfigurations(constraint[begin+leadingspace+run:end], [rest...], true))\n",
    "            end,\n",
    "            0:(space-minspace)\n",
    "        );\n",
    "        init=Array{Char}(undef, 0)\n",
    "    ))\n",
    "end\n",
    "\n",
    "println(possibleconfigurations(\"????\", (4), false))\n",
    "println(possibleconfigurations(\"????\", (2), false))\n",
    "println(possibleconfigurations(\"##??\", (2, 1), false))\n",
    "println(possibleconfigurations(\"???????????????\", (1, 3, 1, 6), false))\n",
    "println(possibleconfigurations(\"??????????\", (1, 5), false))"
   ]
  },
  {
   "cell_type": "markdown",
   "metadata": {},
   "source": [
    "When getting the part two the approach of generating all possibilities and then filtering falls down because there are too many possibilities.\n",
    "We can effectively combine both algorithms writing one that only generates valid entries and counts as it goes, this will also make it more memory efficient."
   ]
  },
  {
   "cell_type": "code",
   "execution_count": 4,
   "metadata": {},
   "outputs": [
    {
     "name": "stdout",
     "output_type": "stream",
     "text": [
      "1\n",
      "4\n",
      "1\n"
     ]
    }
   ],
   "source": [
    "using Memoization\n",
    "\n",
    "@memoize Dict function possiblevalidconfigurations(constraint, runlengths, leadingworkingspring)\n",
    "   ## no more runs of broken springs left, everything in the constraint has to be unkown or working\n",
    "   ## if the constraint is empty this will work.\n",
    "   if length(runlengths) == 0\n",
    "      return all(v -> v == '?' || v == '.', constraint) ? 1 : 0\n",
    "   end\n",
    "\n",
    "   ## not enough space\n",
    "   if length(constraint) < minlength(runlengths)\n",
    "      return 0\n",
    "   end\n",
    "\n",
    "   ## if there is / could be a leading working spring then the number of permutations need to take into account what would happen if there was\n",
    "   s1 = if constraint[begin] == '.' || constraint[begin] == '?'\n",
    "      possiblevalidconfigurations(constraint[begin+1:end], runlengths, false)\n",
    "   else\n",
    "      0\n",
    "   end\n",
    "\n",
    "   ## if there is / could be a a leading broken spring then the number of permutations need to take into account what would happen if there was\n",
    "   s2 = if !leadingworkingspring && (constraint[begin] == '#' || constraint[begin] == '?')\n",
    "      (run, rest...) = runlengths\n",
    "      ## check if the constraint would allow for the leading broken spring\n",
    "      if all(v -> v == '?' || v == '#', constraint[begin:begin+run-1])\n",
    "         possiblevalidconfigurations(constraint[begin+run:end], [rest...], true)\n",
    "      else\n",
    "         0\n",
    "      end\n",
    "   else\n",
    "      0\n",
    "   end\n",
    "\n",
    "   ## add the 2 possibilities\n",
    "   return s1 + s2\n",
    "end\n",
    "\n",
    "println(possiblevalidconfigurations(\"???.###\", (1, 1, 3), false))\n",
    "println(possiblevalidconfigurations(\".??..??...?##.\", (1, 1, 3), false))\n",
    "println(possiblevalidconfigurations(\"?#?#?#?#?#?#?#?\", (1, 3, 1, 6), false))"
   ]
  },
  {
   "cell_type": "markdown",
   "metadata": {},
   "source": [
    "Parsing and putting it all together"
   ]
  },
  {
   "cell_type": "code",
   "execution_count": 8,
   "metadata": {},
   "outputs": [
    {
     "data": {
      "text/plain": [
       "6-element Vector{Tuple{SubString{String}, Vector{Int64}}}:\n",
       " (\"???.###\", [1, 1, 3])\n",
       " (\".??..??...?##.\", [1, 1, 3])\n",
       " (\"?#?#?#?#?#?#?#?\", [1, 3, 1, 6])\n",
       " (\"????.#...#...\", [4, 1, 1])\n",
       " (\"????.######..#####.\", [1, 6, 5])\n",
       " (\"?###????????\", [3, 2, 1])"
      ]
     },
     "execution_count": 8,
     "metadata": {},
     "output_type": "execute_result"
    }
   ],
   "source": [
    "function parsecontents(contents)\n",
    "    map(contents) do line\n",
    "        (constraint, nums) = split(line)\n",
    "        runlengths = map(d -> parse(Int, d), split(nums, ','))\n",
    "        (constraint, runlengths)\n",
    "    end\n",
    "end\n",
    "\n",
    "parsecontents(example)"
   ]
  },
  {
   "cell_type": "code",
   "execution_count": 10,
   "metadata": {},
   "outputs": [
    {
     "data": {
      "text/plain": [
       "true"
      ]
     },
     "execution_count": 10,
     "metadata": {},
     "output_type": "execute_result"
    }
   ],
   "source": [
    "function partone(contents)\n",
    "    parsed = parsecontents(contents)\n",
    "    sum(\n",
    "        map(parsed) do (constraint, runlengths)\n",
    "            possiblevalidconfigurations(constraint, runlengths, false)\n",
    "        end\n",
    "    )\n",
    "end\n",
    "\n",
    "partone(example) == examplepartonesolution"
   ]
  },
  {
   "cell_type": "markdown",
   "metadata": {},
   "source": [
    "## Part Two"
   ]
  },
  {
   "cell_type": "markdown",
   "metadata": {},
   "source": [
    "For part two we found out that the rows are folded over 5 fold times."
   ]
  },
  {
   "cell_type": "code",
   "execution_count": 12,
   "metadata": {},
   "outputs": [
    {
     "data": {
      "text/plain": [
       "525152"
      ]
     },
     "execution_count": 12,
     "metadata": {},
     "output_type": "execute_result"
    }
   ],
   "source": [
    "exampleparttwosoluation = 525152"
   ]
  },
  {
   "cell_type": "code",
   "execution_count": 13,
   "metadata": {},
   "outputs": [
    {
     "data": {
      "text/plain": [
       "unfold5 (generic function with 1 method)"
      ]
     },
     "execution_count": 13,
     "metadata": {},
     "output_type": "execute_result"
    }
   ],
   "source": [
    "function unfold5(constraint, runlengths)\n",
    "    (\n",
    "        constraint * \"?\" * constraint * \"?\" * constraint * \"?\" * constraint * \"?\" * constraint,\n",
    "        (runlengths..., runlengths..., runlengths..., runlengths..., runlengths...)\n",
    "    )\n",
    "end"
   ]
  },
  {
   "cell_type": "code",
   "execution_count": 14,
   "metadata": {},
   "outputs": [
    {
     "data": {
      "text/plain": [
       "true"
      ]
     },
     "execution_count": 14,
     "metadata": {},
     "output_type": "execute_result"
    }
   ],
   "source": [
    "function parttwo(contents)\n",
    "    parsed = parsecontents(contents)\n",
    "    unfolded = map(t -> unfold5(t[1], t[2]), parsed)\n",
    "    return sum(map(unfolded) do (constraint, runlengths)\n",
    "        possiblevalidconfigurations(constraint, runlengths, false)\n",
    "    end)\n",
    "end\n",
    "\n",
    "parttwo(example) == exampleparttwosoluation"
   ]
  },
  {
   "cell_type": "markdown",
   "metadata": {},
   "source": [
    "## Result"
   ]
  },
  {
   "cell_type": "code",
   "execution_count": 15,
   "metadata": {},
   "outputs": [
    {
     "name": "stdout",
     "output_type": "stream",
     "text": [
      "7402\n",
      "7402\n",
      "3384337640277\n"
     ]
    }
   ],
   "source": [
    "include(\"./aoc.jl\")\n",
    "\n",
    "println(7402)\n",
    "println(3384337640277)\n",
    "execute(12, partone, parttwo)\n"
   ]
  }
 ],
 "metadata": {
  "kernelspec": {
   "display_name": "Julia 1.9.4",
   "language": "julia",
   "name": "julia-1.9"
  },
  "language_info": {
   "file_extension": ".jl",
   "mimetype": "application/julia",
   "name": "julia",
   "version": "1.9.4"
  }
 },
 "nbformat": 4,
 "nbformat_minor": 2
}
