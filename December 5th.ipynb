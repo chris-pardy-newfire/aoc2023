{
 "cells": [
  {
   "cell_type": "markdown",
   "metadata": {},
   "source": [
    "# Day 5: If You Give A Seed A Fertilizer"
   ]
  },
  {
   "cell_type": "markdown",
   "metadata": {},
   "source": [
    "## Part One"
   ]
  },
  {
   "cell_type": "markdown",
   "metadata": {},
   "source": [
    "You take the boat and find the gardener right where you were told he would be: managing a giant \"garden\" that looks more to you like a farm.\n",
    "\n",
    "\"A water source? Island Island is the water source!\" You point out that Snow Island isn't receiving any water.\n",
    "\n",
    "\"Oh, we had to stop the water because we ran out of sand to filter it with! Can't make snow with dirty water. Don't worry, I'm sure we'll get more sand soon; we only turned off the water a few days... weeks... oh no.\" His face sinks into a look of horrified realization.\n",
    "\n",
    "\"I've been so busy making sure everyone here has food that I completely forgot to check why we stopped getting more sand! There's a ferry leaving soon that is headed over in that direction - it's much faster than your boat. Could you please go check it out?\"\n",
    "\n",
    "You barely have time to agree to this request when he brings up another. \"While you wait for the ferry, maybe you can help us with our food production problem. The latest Island Island Almanac just arrived and we're having trouble making sense of it.\"\n",
    "\n",
    "The almanac (your puzzle input) lists all of the seeds that need to be planted. It also lists what type of soil to use with each kind of seed, what type of fertilizer to use with each kind of soil, what type of water to use with each kind of fertilizer, and so on. Every type of seed, soil, fertilizer and so on is identified with a number, but numbers are reused by each category - that is, soil 123 and fertilizer 123 aren't necessarily related to each other.\n",
    "\n",
    "For example:"
   ]
  },
  {
   "cell_type": "code",
   "execution_count": 103,
   "metadata": {},
   "outputs": [
    {
     "data": {
      "text/plain": [
       "26-element Vector{String}:\n",
       " \"seeds: 79 14 55 13\"\n",
       " \"seed-to-soil map:\"\n",
       " \"50 98 2\"\n",
       " \"52 50 48\"\n",
       " \"soil-to-fertilizer map:\"\n",
       " \"0 15 37\"\n",
       " \"37 52 2\"\n",
       " \"39 0 15\"\n",
       " \"fertilizer-to-water map:\"\n",
       " \"49 53 8\"\n",
       " \"0 11 42\"\n",
       " \"42 0 7\"\n",
       " \"57 7 4\"\n",
       " \"water-to-light map:\"\n",
       " \"88 18 7\"\n",
       " \"18 25 70\"\n",
       " \"light-to-temperature map:\"\n",
       " \"45 77 23\"\n",
       " \"81 45 19\"\n",
       " \"68 64 13\"\n",
       " \"temperature-to-humidity map:\"\n",
       " \"0 69 1\"\n",
       " \"1 0 69\"\n",
       " \"humidity-to-location map:\"\n",
       " \"60 56 37\"\n",
       " \"56 93 4\""
      ]
     },
     "execution_count": 103,
     "metadata": {},
     "output_type": "execute_result"
    }
   ],
   "source": [
    "example = [\n",
    "    \"seeds: 79 14 55 13\", \"seed-to-soil map:\",\n",
    "    \"50 98 2\",\n",
    "    \"52 50 48\", \"soil-to-fertilizer map:\",\n",
    "    \"0 15 37\",\n",
    "    \"37 52 2\",\n",
    "    \"39 0 15\", \"fertilizer-to-water map:\",\n",
    "    \"49 53 8\",\n",
    "    \"0 11 42\",\n",
    "    \"42 0 7\",\n",
    "    \"57 7 4\", \"water-to-light map:\",\n",
    "    \"88 18 7\",\n",
    "    \"18 25 70\", \"light-to-temperature map:\",\n",
    "    \"45 77 23\",\n",
    "    \"81 45 19\",\n",
    "    \"68 64 13\", \"temperature-to-humidity map:\",\n",
    "    \"0 69 1\",\n",
    "    \"1 0 69\", \"humidity-to-location map:\",\n",
    "    \"60 56 37\",\n",
    "    \"56 93 4\"\n",
    "]"
   ]
  },
  {
   "cell_type": "markdown",
   "metadata": {},
   "source": [
    "The almanac starts by listing which seeds need to be planted: seeds 79, 14, 55, and 13.\n",
    "\n",
    "The rest of the almanac contains a list of maps which describe how to convert numbers from a source category into numbers in a destination category. That is, the section that starts with seed-to-soil map: describes how to convert a seed number (the source) to a soil number (the destination). This lets the gardener and his team know which soil to use with which seeds, which water to use with which fertilizer, and so on.\n",
    "\n",
    "Rather than list every source number and its corresponding destination number one by one, the maps describe entire ranges of numbers that can be converted. Each line within a map contains three numbers: the destination range start, the source range start, and the range length.\n",
    "\n",
    "Consider again the example seed-to-soil map:\n",
    "```\n",
    "50 98 2\n",
    "52 50 48\n",
    "```\n",
    "The first line has a destination range start of 50, a source range start of 98, and a range length of 2. This line means that the source range starts at 98 and contains two values: 98 and 99. The destination range is the same length, but it starts at 50, so its two values are 50 and 51. With this information, you know that seed number 98 corresponds to soil number 50 and that seed number 99 corresponds to soil number 51.\n",
    "\n",
    "The second line means that the source range starts at 50 and contains 48 values: 50, 51, ..., 96, 97. This corresponds to a destination range starting at 52 and also containing 48 values: 52, 53, ..., 98, 99. So, seed number 53 corresponds to soil number 55.\n",
    "\n",
    "Any source numbers that aren't mapped correspond to the same destination number. So, seed number 10 corresponds to soil number 10.\n",
    "\n",
    "So, the entire list of seed numbers and their corresponding soil numbers looks like this:\n",
    "```\n",
    "seed  soil\n",
    "0     0\n",
    "1     1\n",
    "...   ...\n",
    "48    48\n",
    "49    49\n",
    "50    52\n",
    "51    53\n",
    "...   ...\n",
    "96    98\n",
    "97    99\n",
    "98    50\n",
    "99    51\n",
    "```\n",
    "With this map, you can look up the soil number required for each initial seed number:\n",
    "\n",
    "Seed number 79 corresponds to soil number 81.\n",
    "Seed number 14 corresponds to soil number 14.\n",
    "Seed number 55 corresponds to soil number 57.\n",
    "Seed number 13 corresponds to soil number 13.\n",
    "The gardener and his team want to get started as soon as possible, so they'd like to know the closest location that needs a seed. Using these maps, find the lowest location number that corresponds to any of the initial seeds. To do this, you'll need to convert each seed number through other categories until you can find its corresponding location number. In this example, the corresponding types are:\n",
    "\n",
    "Seed 79, soil 81, fertilizer 81, water 81, light 74, temperature 78, humidity 78, location 82.\n",
    "Seed 14, soil 14, fertilizer 53, water 49, light 42, temperature 42, humidity 43, location 43.\n",
    "Seed 55, soil 57, fertilizer 57, water 53, light 46, temperature 82, humidity 82, location 86.\n",
    "Seed 13, soil 13, fertilizer 52, water 41, light 34, temperature 34, humidity 35, location 35.\n",
    "So, the lowest location number in this example is 35.\n",
    "\n",
    "What is the lowest location number that corresponds to any of the initial seed numbers?"
   ]
  },
  {
   "cell_type": "markdown",
   "metadata": {},
   "source": []
  },
  {
   "cell_type": "code",
   "execution_count": null,
   "metadata": {},
   "outputs": [],
   "source": []
  },
  {
   "cell_type": "code",
   "execution_count": 104,
   "metadata": {},
   "outputs": [
    {
     "data": {
      "text/plain": [
       "minrange (generic function with 2 methods)"
      ]
     },
     "execution_count": 104,
     "metadata": {},
     "output_type": "execute_result"
    }
   ],
   "source": [
    "struct Almanac\n",
    "    seeds\n",
    "    seedtosoilmapping\n",
    "    soiltofertilizermapping\n",
    "    fertilizertowatermapping\n",
    "    watertolightmapping\n",
    "    lighttotempraturemapping\n",
    "    tempraturetohumiditymapping\n",
    "    humiditytolocationmapping\n",
    "end\n",
    "\n",
    "function createmapping(contents)\n",
    "    map(\n",
    "        function (ln)\n",
    "            (destinationstart, sourcestart, length) = map(d -> parse(Int, d), split(ln))\n",
    "            (sourcestart:sourcestart+length-1) => (destinationstart:destinationstart+length-1)\n",
    "        end,\n",
    "        contents\n",
    "    )\n",
    "end\n",
    "\n",
    "function parsealmanac(contents, parseseeds)\n",
    "    let seeds = [], lnnum = firstindex(contents), entries = Dict()\n",
    "        while lnnum <= lastindex(contents)\n",
    "            if startswith(contents[lnnum], \"seeds:\")\n",
    "                seeds = parseseeds(map(d -> parse(Int, d), split(contents[lnnum][7:end])))\n",
    "                lnnum += 1\n",
    "            else\n",
    "                start = lnnum\n",
    "                lnnum += 1\n",
    "                while lnnum <= lastindex(contents) && isdigit(contents[lnnum][begin])\n",
    "                    lnnum += 1\n",
    "                end\n",
    "                get!(entries, contents[start], createmapping(contents[start+1:lnnum-1]))\n",
    "            end\n",
    "        end\n",
    "        return Almanac(\n",
    "            seeds,\n",
    "            get(entries, \"seed-to-soil map:\", []),\n",
    "            get(entries, \"soil-to-fertilizer map:\", []),\n",
    "            get(entries, \"fertilizer-to-water map:\", []),\n",
    "            get(entries, \"water-to-light map:\", []),\n",
    "            get(entries, \"light-to-temperature map:\", []),\n",
    "            get(entries, \"temperature-to-humidity map:\", []),\n",
    "            get(entries, \"humidity-to-location map:\", [])\n",
    "        )\n",
    "    end\n",
    "end\n",
    "\n",
    "function maprangestoranges(fromranges, toranges)\n",
    "    let candidates = copy(fromranges), result = []\n",
    "        while length(candidates) > 0\n",
    "            candidate = pop!(candidates)\n",
    "            if length(candidate) < 1\n",
    "                continue\n",
    "            end\n",
    "            for range in toranges\n",
    "                i = intersect(candidate, range.first)\n",
    "                l = length(i)\n",
    "                if l > 0\n",
    "                    offset = i.start - range.first.start\n",
    "                    rstart = range.second.start + offset\n",
    "                    rrange = rstart:rstart+l-1\n",
    "                    push!(result, rrange)\n",
    "                    push!(candidates, range.first.stop+1:candidate.stop)\n",
    "                    candidate = candidate.start:range.first.start-1\n",
    "                    if length(candidate) < 1\n",
    "                        break\n",
    "                    end\n",
    "                end\n",
    "            end\n",
    "            if length(candidate) > 0\n",
    "                push!(result, candidate)\n",
    "            end\n",
    "        end\n",
    "        return result\n",
    "    end\n",
    "end\n",
    "\n",
    "function fromseedtolocation(almanac::Almanac)\n",
    "    maprangestoranges(\n",
    "        maprangestoranges(\n",
    "            maprangestoranges(\n",
    "                maprangestoranges(\n",
    "                    maprangestoranges(\n",
    "                        maprangestoranges(\n",
    "                            maprangestoranges(\n",
    "                                almanac.seeds,\n",
    "                                almanac.seedtosoilmapping\n",
    "                            ),\n",
    "                            almanac.soiltofertilizermapping\n",
    "                        ),\n",
    "                        almanac.fertilizertowatermapping\n",
    "                    ),\n",
    "                    almanac.watertolightmapping\n",
    "                ),\n",
    "                almanac.lighttotempraturemapping\n",
    "            ),\n",
    "            almanac.tempraturetohumiditymapping\n",
    "        ),\n",
    "        almanac.humiditytolocationmapping\n",
    "    )\n",
    "end\n",
    "\n",
    "function minrange(ranges)\n",
    "    min(map(r -> r.start, ranges)...)\n",
    "end"
   ]
  },
  {
   "cell_type": "code",
   "execution_count": 105,
   "metadata": {},
   "outputs": [
    {
     "data": {
      "text/plain": [
       "35"
      ]
     },
     "execution_count": 105,
     "metadata": {},
     "output_type": "execute_result"
    }
   ],
   "source": [
    "\n",
    "\n",
    "function partone(contents)\n",
    "    almanac = parsealmanac(contents, seeds -> map(s -> s:s, seeds))\n",
    "    minrange(fromseedtolocation(almanac))\n",
    "end\n",
    "\n",
    "partone(example)"
   ]
  },
  {
   "cell_type": "markdown",
   "metadata": {},
   "source": [
    "## Part Two"
   ]
  },
  {
   "cell_type": "markdown",
   "metadata": {},
   "source": [
    "Everyone will starve if you only plant such a small number of seeds. Re-reading the almanac, it looks like the seeds: line actually describes ranges of seed numbers.\n",
    "\n",
    "The values on the initial seeds: line come in pairs. Within each pair, the first value is the start of the range and the second value is the length of the range. So, in the first line of the example above:\n",
    "\n",
    "`seeds: 79 14 55 13`\n",
    "\n",
    "This line describes two ranges of seed numbers to be planted in the garden. The first range starts with seed number 79 and contains 14 values: 79, 80, ..., 91, 92. The second range starts with seed number 55 and contains 13 values: 55, 56, ..., 66, 67.\n",
    "\n",
    "Now, rather than considering four seed numbers, you need to consider a total of 27 seed numbers.\n",
    "\n",
    "In the above example, the lowest location number can be obtained from seed number 82, which corresponds to soil 84, fertilizer 84, water 84, light 77, temperature 45, humidity 46, and location 46. So, the lowest location number is 46.\n",
    "\n",
    "Consider all of the initial seed numbers listed in the ranges on the first line of the almanac. What is the lowest location number that corresponds to any of the initial seed numbers?"
   ]
  },
  {
   "cell_type": "code",
   "execution_count": 106,
   "metadata": {},
   "outputs": [
    {
     "data": {
      "text/plain": [
       "46"
      ]
     },
     "execution_count": 106,
     "metadata": {},
     "output_type": "execute_result"
    }
   ],
   "source": [
    "function parttwo(contents)\n",
    "    function parseseeds(seeds)\n",
    "        let seedranges = []\n",
    "            for rstart in firstindex(seeds):2:lastindex(seeds)\n",
    "                start = seeds[rstart]\n",
    "                length = seeds[rstart+1]\n",
    "                push!(seedranges, start:(start+length-1))\n",
    "            end\n",
    "            return seedranges\n",
    "        end\n",
    "    end\n",
    "\n",
    "    almanac = parsealmanac(contents, parseseeds)\n",
    "    minrange(fromseedtolocation(almanac))\n",
    "end\n",
    "\n",
    "parttwo(example)"
   ]
  },
  {
   "cell_type": "markdown",
   "metadata": {},
   "source": [
    "## Results"
   ]
  },
  {
   "cell_type": "code",
   "execution_count": 107,
   "metadata": {},
   "outputs": [
    {
     "name": "stdout",
     "output_type": "stream",
     "text": [
      "178159714\n",
      "100165128\n"
     ]
    }
   ],
   "source": [
    "include(\"./aoc.jl\")\n",
    "execute(5, partone, parttwo)"
   ]
  }
 ],
 "metadata": {
  "kernelspec": {
   "display_name": "Julia 1.9.4",
   "language": "julia",
   "name": "julia-1.9"
  },
  "language_info": {
   "file_extension": ".jl",
   "mimetype": "application/julia",
   "name": "julia",
   "version": "1.9.4"
  }
 },
 "nbformat": 4,
 "nbformat_minor": 2
}
