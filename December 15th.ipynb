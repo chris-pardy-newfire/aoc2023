{
 "cells": [
  {
   "cell_type": "markdown",
   "metadata": {},
   "source": [
    "# December 15th"
   ]
  },
  {
   "cell_type": "markdown",
   "metadata": {},
   "source": [
    "Cool a hash algorithm, and one that is clearly spelled out let's implement it"
   ]
  },
  {
   "cell_type": "code",
   "execution_count": 24,
   "metadata": {},
   "outputs": [
    {
     "data": {
      "text/plain": [
       "true"
      ]
     },
     "execution_count": 24,
     "metadata": {},
     "output_type": "execute_result"
    }
   ],
   "source": [
    "function holidayhash(str)\n",
    "    r = 0\n",
    "    for c in str\n",
    "        r = ((r + Int(c)) * 17) % 256\n",
    "    end\n",
    "    return r\n",
    "end\n",
    "\n",
    "holidayhash(\"HASH\") === 52"
   ]
  },
  {
   "cell_type": "markdown",
   "metadata": {},
   "source": [
    "Input sequence is just a big single line comma seperated this time"
   ]
  },
  {
   "cell_type": "code",
   "execution_count": 25,
   "metadata": {},
   "outputs": [
    {
     "data": {
      "text/plain": [
       "1320"
      ]
     },
     "execution_count": 25,
     "metadata": {},
     "output_type": "execute_result"
    }
   ],
   "source": [
    "example = [\n",
    "    \"rn=1,cm-,qp=3,cm=2,qp-,pc=4,ot=9,ab=5,pc-,pc=6,ot=7\"\n",
    "]\n",
    "\n",
    "examplepartoneresult = 1320"
   ]
  },
  {
   "cell_type": "code",
   "execution_count": 26,
   "metadata": {},
   "outputs": [
    {
     "data": {
      "text/plain": [
       "true"
      ]
     },
     "execution_count": 26,
     "metadata": {},
     "output_type": "execute_result"
    }
   ],
   "source": [
    "function parsecontents(data)\n",
    "    split(data[begin], ',', keepempty=false)\n",
    "end\n",
    "\n",
    "function partone(contents)\n",
    "    sum(map(holidayhash, parsecontents(contents)))\n",
    "end\n",
    "\n",
    "partone(example) == examplepartoneresult"
   ]
  },
  {
   "cell_type": "markdown",
   "metadata": {},
   "source": [
    "## Part 2\n",
    "Thank god it's not rainbow tables"
   ]
  },
  {
   "cell_type": "markdown",
   "metadata": {},
   "source": [
    "We're building some kind of hashmap. We need to start by building the component parts of the system"
   ]
  },
  {
   "cell_type": "code",
   "execution_count": 27,
   "metadata": {},
   "outputs": [
    {
     "data": {
      "text/plain": [
       "sumhash (generic function with 2 methods)"
      ]
     },
     "execution_count": 27,
     "metadata": {},
     "output_type": "execute_result"
    }
   ],
   "source": [
    "using DataStructures\n",
    "\n",
    "struct AddInstruction\n",
    "    hash::Int\n",
    "    label::AbstractString\n",
    "    focallength::Int\n",
    "end\n",
    "\n",
    "struct RemoveInstruction\n",
    "    hash::Int\n",
    "    label::AbstractString\n",
    "end\n",
    "\n",
    "Instruction = Union{AddInstruction,RemoveInstruction}\n",
    "\n",
    "instructionparser = r\"(\\w+)(=|-)(\\d*)\"\n",
    "function parseinstruction(ins::AbstractString)::Instruction\n",
    "    (label, op, fl) = match(instructionparser, ins)\n",
    "    if op == \"-\"\n",
    "        RemoveInstruction(\n",
    "            holidayhash(label),\n",
    "            label\n",
    "        )\n",
    "    else\n",
    "        AddInstruction(\n",
    "            holidayhash(label),\n",
    "            label,\n",
    "            parse(Int, fl)\n",
    "        )\n",
    "    end\n",
    "end\n",
    "\n",
    "parseinstruction(\"ht=7\")\n",
    "parseinstruction(\"ht-\")\n",
    "\n",
    "function executeinmap(dict::Dict{Int,OrderedDict{AbstractString,Int}}, instruction::Instruction)\n",
    "    if typeof(instruction) == RemoveInstruction && haskey(dict, instruction.hash)\n",
    "        delete!(dict[instruction.hash], instruction.label)\n",
    "    elseif typeof(instruction) === AddInstruction\n",
    "        get!(dict, instruction.hash, OrderedDict())[instruction.label] = instruction.focallength\n",
    "    end\n",
    "end\n",
    "\n",
    "function sumhash(dict::Dict{Int,OrderedDict{AbstractString,Int}})\n",
    "    s = 0\n",
    "    for (h, l) in dict\n",
    "        box = h + 1\n",
    "        slot = 1\n",
    "        for (label, focallength) in l\n",
    "            s += (box * slot * focallength)\n",
    "            slot += 1\n",
    "        end\n",
    "    end\n",
    "    return s\n",
    "end"
   ]
  },
  {
   "cell_type": "code",
   "execution_count": 28,
   "metadata": {},
   "outputs": [
    {
     "data": {
      "text/plain": [
       "true"
      ]
     },
     "execution_count": 28,
     "metadata": {},
     "output_type": "execute_result"
    }
   ],
   "source": [
    "function parttwo(contents)\n",
    "    hashmap = Dict{Int,OrderedDict{AbstractString,Int}}()\n",
    "    for instruction in map(parseinstruction, parsecontents(contents))\n",
    "        executeinmap(hashmap, instruction)\n",
    "    end\n",
    "    return sumhash(hashmap)\n",
    "end\n",
    "\n",
    "parttwo(example) == 145"
   ]
  },
  {
   "cell_type": "markdown",
   "metadata": {},
   "source": [
    "## Results"
   ]
  },
  {
   "cell_type": "code",
   "execution_count": 29,
   "metadata": {},
   "outputs": [
    {
     "name": "stdout",
     "output_type": "stream",
     "text": [
      "520500\n",
      "213097\n"
     ]
    }
   ],
   "source": [
    "include(\"./aoc.jl\")\n",
    "\n",
    "execute(15, partone, parttwo)"
   ]
  }
 ],
 "metadata": {
  "kernelspec": {
   "display_name": "Julia 1.9.4",
   "language": "julia",
   "name": "julia-1.9"
  },
  "language_info": {
   "file_extension": ".jl",
   "mimetype": "application/julia",
   "name": "julia",
   "version": "1.9.4"
  }
 },
 "nbformat": 4,
 "nbformat_minor": 2
}
