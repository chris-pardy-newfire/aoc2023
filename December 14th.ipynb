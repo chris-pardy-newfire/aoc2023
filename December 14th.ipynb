{
 "cells": [
  {
   "cell_type": "markdown",
   "metadata": {},
   "source": [
    "# December 14th"
   ]
  },
  {
   "cell_type": "code",
   "execution_count": 78,
   "metadata": {},
   "outputs": [
    {
     "data": {
      "text/plain": [
       "10-element Vector{String}:\n",
       " \"O....#....\"\n",
       " \"O.OO#....#\"\n",
       " \".....##...\"\n",
       " \"OO.#O....O\"\n",
       " \".O.....O#.\"\n",
       " \"O.#..O.#.#\"\n",
       " \"..O..#O..O\"\n",
       " \".......O..\"\n",
       " \"#....###..\"\n",
       " \"#OO..#....\""
      ]
     },
     "execution_count": 78,
     "metadata": {},
     "output_type": "execute_result"
    }
   ],
   "source": [
    "example = [\n",
    "    \"O....#....\",\n",
    "    \"O.OO#....#\",\n",
    "    \".....##...\",\n",
    "    \"OO.#O....O\",\n",
    "    \".O.....O#.\",\n",
    "    \"O.#..O.#.#\",\n",
    "    \"..O..#O..O\",\n",
    "    \".......O..\",\n",
    "    \"#....###..\",\n",
    "    \"#OO..#....\"\n",
    "]"
   ]
  },
  {
   "cell_type": "code",
   "execution_count": 79,
   "metadata": {},
   "outputs": [
    {
     "data": {
      "text/plain": [
       "10×10 Matrix{Char}:\n",
       " 'O'  '.'  '.'  '.'  '.'  '#'  '.'  '.'  '.'  '.'\n",
       " 'O'  '.'  'O'  'O'  '#'  '.'  '.'  '.'  '.'  '#'\n",
       " '.'  '.'  '.'  '.'  '.'  '#'  '#'  '.'  '.'  '.'\n",
       " 'O'  'O'  '.'  '#'  'O'  '.'  '.'  '.'  '.'  'O'\n",
       " '.'  'O'  '.'  '.'  '.'  '.'  '.'  'O'  '#'  '.'\n",
       " 'O'  '.'  '#'  '.'  '.'  'O'  '.'  '#'  '.'  '#'\n",
       " '.'  '.'  'O'  '.'  '.'  '#'  'O'  '.'  '.'  'O'\n",
       " '.'  '.'  '.'  '.'  '.'  '.'  '.'  'O'  '.'  '.'\n",
       " '#'  '.'  '.'  '.'  '.'  '#'  '#'  '#'  '.'  '.'\n",
       " '#'  'O'  'O'  '.'  '.'  '#'  '.'  '.'  '.'  '.'"
      ]
     },
     "execution_count": 79,
     "metadata": {},
     "output_type": "execute_result"
    }
   ],
   "source": [
    "include(\"./aoc.jl\")\n",
    "\n",
    "## turn the example into a grid\n",
    "makegrid(example)"
   ]
  },
  {
   "cell_type": "markdown",
   "metadata": {},
   "source": [
    "I'm not sure what the extension is but I think we should write a pretty generic rolling function"
   ]
  },
  {
   "cell_type": "code",
   "execution_count": 80,
   "metadata": {},
   "outputs": [
    {
     "data": {
      "text/plain": [
       "10×10 Matrix{Char}:\n",
       " 'O'  'O'  'O'  'O'  '.'  '#'  '.'  'O'  '.'  '.'\n",
       " 'O'  'O'  '.'  '.'  '#'  '.'  '.'  '.'  '.'  '#'\n",
       " 'O'  'O'  '.'  '.'  'O'  '#'  '#'  '.'  '.'  'O'\n",
       " 'O'  '.'  '.'  '#'  '.'  'O'  'O'  '.'  '.'  '.'\n",
       " '.'  '.'  '.'  '.'  '.'  '.'  '.'  '.'  '#'  '.'\n",
       " '.'  '.'  '#'  '.'  '.'  '.'  '.'  '#'  '.'  '#'\n",
       " '.'  '.'  'O'  '.'  '.'  '#'  '.'  'O'  '.'  'O'\n",
       " '.'  '.'  'O'  '.'  '.'  '.'  '.'  '.'  '.'  '.'\n",
       " '#'  '.'  '.'  '.'  '.'  '#'  '#'  '#'  '.'  '.'\n",
       " '#'  '.'  '.'  '.'  '.'  '#'  '.'  '.'  '.'  '.'"
      ]
     },
     "execution_count": 80,
     "metadata": {},
     "output_type": "execute_result"
    }
   ],
   "source": [
    "function rollnorth(grid)\n",
    "    target = fill('.', size(grid))\n",
    "    for o in firstindex(grid, 2):lastindex(grid, 2)\n",
    "        i = firstindex(grid, 1)\n",
    "        t = firstindex(target, 1)\n",
    "        while i <= lastindex(grid, 1)\n",
    "            if grid[i, o] == 'O'\n",
    "                target[t, o] = 'O'\n",
    "                t = t + 1\n",
    "            elseif grid[i, o] == '#'\n",
    "                target[i, o] = '#'\n",
    "                t = i + 1\n",
    "            end\n",
    "            i = i + 1\n",
    "        end\n",
    "    end\n",
    "    target\n",
    "end\n",
    "\n",
    "rollnorth(makegrid(example))"
   ]
  },
  {
   "cell_type": "markdown",
   "metadata": {},
   "source": [
    "Then we can write a function to measure the load"
   ]
  },
  {
   "cell_type": "code",
   "execution_count": 81,
   "metadata": {},
   "outputs": [
    {
     "data": {
      "text/plain": [
       "136"
      ]
     },
     "execution_count": 81,
     "metadata": {},
     "output_type": "execute_result"
    }
   ],
   "source": [
    "function northload(grid)\n",
    "    let load = 0, contributuion = size(grid, 1)\n",
    "        for i in firstindex(grid, 1):lastindex(grid, 1)\n",
    "            for o in firstindex(grid, 2):lastindex(grid, 2)\n",
    "                if grid[i, o] == 'O'\n",
    "                    load += contributuion\n",
    "                end\n",
    "            end\n",
    "            contributuion -= 1\n",
    "        end\n",
    "        return load\n",
    "    end\n",
    "end\n",
    "\n",
    "northload(rollnorth(makegrid(example)))"
   ]
  },
  {
   "cell_type": "code",
   "execution_count": 82,
   "metadata": {},
   "outputs": [
    {
     "data": {
      "text/plain": [
       "true"
      ]
     },
     "execution_count": 82,
     "metadata": {},
     "output_type": "execute_result"
    }
   ],
   "source": [
    "function partone(contents)\n",
    "    northload(rollnorth(makegrid(contents)))\n",
    "end\n",
    "\n",
    "partone(example) == 136"
   ]
  },
  {
   "cell_type": "markdown",
   "metadata": {},
   "source": [
    "## Part 2:\n",
    "We're spinning"
   ]
  },
  {
   "cell_type": "code",
   "execution_count": 86,
   "metadata": {},
   "outputs": [
    {
     "data": {
      "text/plain": [
       "64"
      ]
     },
     "execution_count": 86,
     "metadata": {},
     "output_type": "execute_result"
    }
   ],
   "source": [
    "function spincycle(grid)\n",
    "    rotr90(rollnorth(rotr90(rollnorth(rotr90(rollnorth(rotr90(rollnorth(grid))))))))\n",
    "end\n",
    "\n",
    "function spinn(grid, n)\n",
    "    g = grid\n",
    "    history = [g]\n",
    "    for e in 1:n\n",
    "        g = spincycle(g)\n",
    "        s = findfirst(h -> g == h, history)\n",
    "        if s != nothing\n",
    "            period = e - s + 1\n",
    "            offset = rem((n - e), period)\n",
    "            return history[s+offset]\n",
    "        end\n",
    "        push!(history, g)\n",
    "    end\n",
    "    return g\n",
    "end\n",
    "\n",
    "northload(spinn(makegrid(example), 1000000000))\n"
   ]
  },
  {
   "cell_type": "code",
   "execution_count": null,
   "metadata": {},
   "outputs": [],
   "source": [
    "function parttwo(contents)\n",
    "    northload(spinn(makegrid(contents), 1000000000))\n",
    "end"
   ]
  },
  {
   "cell_type": "markdown",
   "metadata": {},
   "source": [
    "## Results"
   ]
  },
  {
   "cell_type": "code",
   "execution_count": 84,
   "metadata": {},
   "outputs": [
    {
     "name": "stdout",
     "output_type": "stream",
     "text": [
      "103333\n"
     ]
    }
   ],
   "source": [
    "execute(14, partone, parttwo)"
   ]
  }
 ],
 "metadata": {
  "kernelspec": {
   "display_name": "Julia 1.9.4",
   "language": "julia",
   "name": "julia-1.9"
  },
  "language_info": {
   "file_extension": ".jl",
   "mimetype": "application/julia",
   "name": "julia",
   "version": "1.9.4"
  }
 },
 "nbformat": 4,
 "nbformat_minor": 2
}
