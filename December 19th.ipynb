{
 "cells": [
  {
   "cell_type": "markdown",
   "metadata": {},
   "source": [
    "# December 19th"
   ]
  },
  {
   "cell_type": "markdown",
   "metadata": {},
   "source": [
    "Yay meta programming!"
   ]
  },
  {
   "cell_type": "code",
   "execution_count": 27,
   "metadata": {},
   "outputs": [
    {
     "data": {
      "text/plain": [
       "19114"
      ]
     },
     "execution_count": 27,
     "metadata": {},
     "output_type": "execute_result"
    }
   ],
   "source": [
    "example = [\n",
    "    \"px{a<2006:qkq,m>2090:A,rfg}\",\n",
    "    \"pv{a>1716:R,A}\",\n",
    "    \"lnx{m>1548:A,A}\",\n",
    "    \"rfg{s<537:gd,x>2440:R,A}\",\n",
    "    \"qs{s>3448:A,lnx}\",\n",
    "    \"qkq{x<1416:A,crn}\",\n",
    "    \"crn{x>2662:A,R}\",\n",
    "    \"in{s<1351:px,qqz}\",\n",
    "    \"qqz{s>2770:qs,m<1801:hdj,R}\",\n",
    "    \"gd{a>3333:R,R}\",\n",
    "    \"hdj{m>838:A,pv}\",\n",
    "    \"\",\n",
    "    \"{x=787,m=2655,a=1222,s=2876}\",\n",
    "    \"{x=1679,m=44,a=2067,s=496}\",\n",
    "    \"{x=2036,m=264,a=79,s=2244}\",\n",
    "    \"{x=2461,m=1339,a=466,s=291}\",\n",
    "    \"{x=2127,m=1623,a=2188,s=1013}\"\n",
    "]\n",
    "\n",
    "examplepartonesoution = 19114"
   ]
  },
  {
   "cell_type": "code",
   "execution_count": 28,
   "metadata": {},
   "outputs": [
    {
     "data": {
      "text/plain": [
       "getparts (generic function with 1 method)"
      ]
     },
     "execution_count": 28,
     "metadata": {},
     "output_type": "execute_result"
    }
   ],
   "source": [
    "function createworkflow(workflow)\n",
    "    steps = split(workflow, ',')\n",
    "    if length(steps) == 1\n",
    "        return () -> steps[1]\n",
    "    end\n",
    "    fn = \"function (x,m,a,s)\\n\"\n",
    "    for step in steps\n",
    "        parts = split(step, ':')\n",
    "        if length(parts) == 2\n",
    "            fn = fn * \"if $(parts[1]) \\n \\\"$(parts[2])\\\"\\n else\"\n",
    "        else\n",
    "            fn = fn * \"\\n \\\"$(parts[1])\\\" \\n end \\n\"\n",
    "        end\n",
    "    end\n",
    "    fn = fn * \"end\"\n",
    "    return eval(Meta.parse(fn))\n",
    "end\n",
    "\n",
    "function createworkflows(workflows)\n",
    "    allworkflows = Dict()\n",
    "    for workflow in workflows\n",
    "        idx = findfirst('{', workflow)\n",
    "        key = workflow[begin:idx-1]\n",
    "        fn = createworkflow(workflow[idx+1:end-1])\n",
    "        allworkflows[key] = fn\n",
    "    end\n",
    "    return allworkflows\n",
    "end\n",
    "\n",
    "function executeworkflows(workflows, x, m, a, s)\n",
    "    next = \"in\"\n",
    "    while next != \"A\" && next != \"R\"\n",
    "        wf = workflows[next]\n",
    "        next = Base.invokelatest(wf, x, m, a, s)\n",
    "    end\n",
    "    return next == \"A\"\n",
    "end\n",
    "\n",
    "wf = createworkflow(\"a<2006:qkq,m>2090:A,rfg\")\n",
    "wf(0, 1900, 2007, 0)\n",
    "\n",
    "function getparts(ln)\n",
    "    (xp, mp, ap, sp) = split(ln[begin+1:end-1], ',')\n",
    "    (\n",
    "        parse(Int, xp[begin+2:end]),\n",
    "        parse(Int, mp[begin+2:end]),\n",
    "        parse(Int, ap[begin+2:end]),\n",
    "        parse(Int, sp[begin+2:end])\n",
    "    )\n",
    "end\n"
   ]
  },
  {
   "cell_type": "markdown",
   "metadata": {},
   "source": [
    "Well Part 2 needs a decision tree let's build one."
   ]
  },
  {
   "cell_type": "code",
   "execution_count": 29,
   "metadata": {},
   "outputs": [
    {
     "data": {
      "text/plain": [
       "executenodes (generic function with 1 method)"
      ]
     },
     "execution_count": 29,
     "metadata": {},
     "output_type": "execute_result"
    }
   ],
   "source": [
    "mutable struct CompNode\n",
    "    fromnode\n",
    "    field::Char\n",
    "    comparison::Char\n",
    "    target::Int\n",
    "    then\n",
    "    orelse\n",
    "end\n",
    "\n",
    "mutable struct RefNode\n",
    "    fromnode\n",
    "    target::AbstractString\n",
    "end\n",
    "\n",
    "mutable struct AcceptRejectNode\n",
    "    fromnode\n",
    "    accept::Bool\n",
    "end\n",
    "\n",
    "function createworkflownode(ln)\n",
    "    parts = split(ln, ',')\n",
    "    p = parts[end] == \"A\" || parts[end] == \"R\" ? AcceptRejectNode(nothing, parts[end] == \"A\") : RefNode(nothing, parts[end])\n",
    "    for partidx in range(lastindex(parts) - 1, firstindex(parts), step=-1)\n",
    "        (comp, target) = split(parts[partidx], ':')\n",
    "        then = target == \"A\" || target == \"R\" ? AcceptRejectNode(nothing, target == \"A\") : RefNode(nothing, target)\n",
    "        next = CompNode(\n",
    "            nothing,\n",
    "            comp[begin],\n",
    "            comp[begin+1],\n",
    "            parse(Int, comp[begin+2:end]),\n",
    "            then,\n",
    "            p\n",
    "        )\n",
    "        p.fromnode = next\n",
    "        then.fromnode = next\n",
    "        p = next\n",
    "    end\n",
    "    return p\n",
    "end\n",
    "\n",
    "function createworkflownodes(workflows)\n",
    "    allworkflows = Dict()\n",
    "    for workflow in workflows\n",
    "        idx = findfirst('{', workflow)\n",
    "        key = workflow[begin:idx-1]\n",
    "        n = createworkflownode(workflow[idx+1:end-1])\n",
    "        allworkflows[key] = n\n",
    "    end\n",
    "    return allworkflows\n",
    "end\n",
    "\n",
    "function dereferencenodes(allnodes, parent, node)\n",
    "    if typeof(node) == AcceptRejectNode\n",
    "        AcceptRejectNode(parent, node.accept)\n",
    "    elseif typeof(node) == RefNode\n",
    "        dereferencenodes(allnodes, parent, allnodes[node.target])\n",
    "    else\n",
    "        then = dereferencenodes(allnodes, nothing, node.then)\n",
    "        orelse = dereferencenodes(allnodes, nothing, node.orelse)\n",
    "        n = CompNode(\n",
    "            parent,\n",
    "            node.field,\n",
    "            node.comparison,\n",
    "            node.target,\n",
    "            then,\n",
    "            orelse\n",
    "        )\n",
    "        then.fromnode = n\n",
    "        orelse.fromnode = n\n",
    "        n\n",
    "    end\n",
    "end\n",
    "\n",
    "function executenodes(node, x, m, a, s)\n",
    "    if typeof(node) == AcceptRejectNode\n",
    "        return node.accept\n",
    "    end\n",
    "    v1 = if node.field == 'x'\n",
    "        x\n",
    "    elseif node.field == 'm'\n",
    "        m\n",
    "    elseif node.field == 'a'\n",
    "        a\n",
    "    elseif node.field == 's'\n",
    "        s\n",
    "    end\n",
    "    n = if node.comparison == '<'\n",
    "        v1 < node.target\n",
    "    else\n",
    "        v1 > node.target\n",
    "    end\n",
    "    return executenodes(n ? node.then : node.orelse, x, m, a, s)\n",
    "end\n"
   ]
  },
  {
   "cell_type": "code",
   "execution_count": 30,
   "metadata": {},
   "outputs": [
    {
     "data": {
      "text/plain": [
       "19114"
      ]
     },
     "execution_count": 30,
     "metadata": {},
     "output_type": "execute_result"
    }
   ],
   "source": [
    "function partone(contents)\n",
    "    si = findfirst(l -> l == \"\", contents)\n",
    "    workflows = createworkflownodes(contents[begin:si-1])\n",
    "    startnode = dereferencenodes(workflows, nothing, workflows[\"in\"])\n",
    "    r = 0\n",
    "    for part in contents[si+1:end]\n",
    "        (x, m, a, s) = getparts(part)\n",
    "        if executenodes(startnode, x, m, a, s)\n",
    "            r = r + x + m + a + s\n",
    "        end\n",
    "    end\n",
    "    return r\n",
    "end\n",
    "\n",
    "partone(example)"
   ]
  },
  {
   "cell_type": "markdown",
   "metadata": {},
   "source": [
    "## Part 2"
   ]
  },
  {
   "cell_type": "markdown",
   "metadata": {},
   "source": [
    "We need to find the number of possibilites again we'll lean into recursive functions"
   ]
  },
  {
   "cell_type": "code",
   "execution_count": 33,
   "metadata": {},
   "outputs": [
    {
     "data": {
      "text/plain": [
       "true"
      ]
     },
     "execution_count": 33,
     "metadata": {},
     "output_type": "execute_result"
    }
   ],
   "source": [
    "function countpossibilites(node, x, m, a, s)\n",
    "    if typeof(node) == AcceptRejectNode\n",
    "        if node.accept\n",
    "            return length(x) * length(m) * length(a) * length(s)\n",
    "        else\n",
    "            return 0\n",
    "        end\n",
    "    end\n",
    "    if node.comparison == '<'\n",
    "        if node.field == 'x'\n",
    "            return countpossibilites(\n",
    "                node.then,\n",
    "                x.start:node.target-1,\n",
    "                m,\n",
    "                a,\n",
    "                s\n",
    "            ) + countpossibilites(\n",
    "                node.orelse,\n",
    "                node.target:x.stop,\n",
    "                m,\n",
    "                a,\n",
    "                s\n",
    "            )\n",
    "        elseif node.field == 'm'\n",
    "            return countpossibilites(\n",
    "                node.then,\n",
    "                x,\n",
    "                m.start:node.target-1,\n",
    "                a,\n",
    "                s\n",
    "            ) + countpossibilites(\n",
    "                node.orelse,\n",
    "                x,\n",
    "                node.target:m.stop,\n",
    "                a,\n",
    "                s\n",
    "            )\n",
    "        elseif node.field == 'a'\n",
    "            return countpossibilites(\n",
    "                node.then,\n",
    "                x,\n",
    "                m,\n",
    "                a.start:node.target-1,\n",
    "                s\n",
    "            ) + countpossibilites(\n",
    "                node.orelse,\n",
    "                x,\n",
    "                m,\n",
    "                node.target:a.stop,\n",
    "                s\n",
    "            )\n",
    "        else\n",
    "            return countpossibilites(\n",
    "                node.then,\n",
    "                x,\n",
    "                m,\n",
    "                a,\n",
    "                s.start:node.target-1,\n",
    "            ) + countpossibilites(\n",
    "                node.orelse,\n",
    "                x,\n",
    "                m,\n",
    "                a,\n",
    "                node.target:s.stop,\n",
    "            )\n",
    "        end\n",
    "    else\n",
    "        if node.field == 'x'\n",
    "            return countpossibilites(\n",
    "                node.then,\n",
    "                node.target+1:x.stop,\n",
    "                m,\n",
    "                a,\n",
    "                s\n",
    "            ) + countpossibilites(\n",
    "                node.orelse,\n",
    "                x.start:node.target,\n",
    "                m,\n",
    "                a,\n",
    "                s\n",
    "            )\n",
    "        elseif node.field == 'm'\n",
    "            return countpossibilites(\n",
    "                node.then,\n",
    "                x,\n",
    "                node.target+1:m.stop,\n",
    "                a,\n",
    "                s\n",
    "            ) + countpossibilites(\n",
    "                node.orelse,\n",
    "                x,\n",
    "                m.start:node.target,\n",
    "                a,\n",
    "                s\n",
    "            )\n",
    "        elseif node.field == 'a'\n",
    "            return countpossibilites(\n",
    "                node.then,\n",
    "                x,\n",
    "                m,\n",
    "                node.target+1:a.stop,\n",
    "                s\n",
    "            ) + countpossibilites(\n",
    "                node.orelse,\n",
    "                x,\n",
    "                m,\n",
    "                a.start:node.target,\n",
    "                s\n",
    "            )\n",
    "        else\n",
    "            return countpossibilites(\n",
    "                node.then,\n",
    "                x,\n",
    "                m,\n",
    "                a,\n",
    "                node.target+1:s.stop\n",
    "            ) + countpossibilites(\n",
    "                node.orelse,\n",
    "                x,\n",
    "                m,\n",
    "                a,\n",
    "                s.start:node.target\n",
    "            )\n",
    "        end\n",
    "    end\n",
    "end\n",
    "\n",
    "function parttwo(contents)\n",
    "    si = findfirst(l -> l == \"\", contents)\n",
    "    workflows = createworkflownodes(contents[begin:si-1])\n",
    "    startnode = dereferencenodes(workflows, nothing, workflows[\"in\"])\n",
    "    countpossibilites(startnode, 1:4000, 1:4000, 1:4000, 1:4000)\n",
    "end\n",
    "\n",
    "parttwo(example) == 167409079868000"
   ]
  },
  {
   "cell_type": "markdown",
   "metadata": {},
   "source": [
    "## Results"
   ]
  },
  {
   "cell_type": "code",
   "execution_count": 34,
   "metadata": {},
   "outputs": [
    {
     "name": "stdout",
     "output_type": "stream",
     "text": [
      "480738\n",
      "131550418841958\n"
     ]
    }
   ],
   "source": [
    "include(\"./aoc.jl\")\n",
    "\n",
    "execute(19, partone, parttwo; keepempty=true)"
   ]
  }
 ],
 "metadata": {
  "kernelspec": {
   "display_name": "Julia 1.9.4",
   "language": "julia",
   "name": "julia-1.9"
  },
  "language_info": {
   "file_extension": ".jl",
   "mimetype": "application/julia",
   "name": "julia",
   "version": "1.9.4"
  }
 },
 "nbformat": 4,
 "nbformat_minor": 2
}
