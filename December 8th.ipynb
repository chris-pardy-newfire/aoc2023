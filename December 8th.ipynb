{
 "cells": [
  {
   "cell_type": "markdown",
   "metadata": {},
   "source": [
    "# Day 8: Haunted Wasteland"
   ]
  },
  {
   "cell_type": "markdown",
   "metadata": {},
   "source": [
    "## Part One"
   ]
  },
  {
   "cell_type": "markdown",
   "metadata": {},
   "source": [
    "You're still riding a camel across Desert Island when you spot a sandstorm quickly approaching. When you turn to warn the Elf, she disappears before your eyes! To be fair, she had just finished warning you about ghosts a few minutes ago.\n",
    "\n",
    "One of the camel's pouches is labeled \"maps\" - sure enough, it's full of documents (your puzzle input) about how to navigate the desert. At least, you're pretty sure that's what they are; one of the documents contains a list of left/right instructions, and the rest of the documents seem to describe some kind of network of labeled nodes.\n",
    "\n",
    "It seems like you're meant to use the left/right instructions to navigate the network. Perhaps if you have the camel follow the same instructions, you can escape the haunted wasteland!\n",
    "\n",
    "After examining the maps for a bit, two nodes stick out: AAA and ZZZ. You feel like AAA is where you are now, and you have to follow the left/right instructions until you reach ZZZ.\n",
    "\n",
    "This format defines each node of the network individually. For example:"
   ]
  },
  {
   "cell_type": "code",
   "execution_count": 22,
   "metadata": {},
   "outputs": [
    {
     "data": {
      "text/plain": [
       "8-element Vector{String}:\n",
       " \"RL\"\n",
       " \"AAA = (BBB, CCC)\"\n",
       " \"BBB = (DDD, EEE)\"\n",
       " \"CCC = (ZZZ, GGG)\"\n",
       " \"DDD = (DDD, DDD)\"\n",
       " \"EEE = (EEE, EEE)\"\n",
       " \"GGG = (GGG, GGG)\"\n",
       " \"ZZZ = (ZZZ, ZZZ)\""
      ]
     },
     "execution_count": 22,
     "metadata": {},
     "output_type": "execute_result"
    }
   ],
   "source": [
    "example1 = [\n",
    "    \"RL\",\n",
    "    \"AAA = (BBB, CCC)\",\n",
    "    \"BBB = (DDD, EEE)\",\n",
    "    \"CCC = (ZZZ, GGG)\",\n",
    "    \"DDD = (DDD, DDD)\",\n",
    "    \"EEE = (EEE, EEE)\",\n",
    "    \"GGG = (GGG, GGG)\",\n",
    "    \"ZZZ = (ZZZ, ZZZ)\"\n",
    "]"
   ]
  },
  {
   "cell_type": "markdown",
   "metadata": {},
   "source": [
    "Starting with AAA, you need to look up the next element based on the next left/right instruction in your input. In this example, start with AAA and go right (R) by choosing the right element of AAA, CCC. Then, L means to choose the left element of CCC, ZZZ. By following the left/right instructions, you reach ZZZ in 2 steps.\n",
    "\n",
    "Of course, you might not find ZZZ right away. If you run out of left/right instructions, repeat the whole sequence of instructions as necessary: RL really means RLRLRLRLRLRLRLRL... and so on. For example, here is a situation that takes 6 steps to reach ZZZ:"
   ]
  },
  {
   "cell_type": "code",
   "execution_count": 23,
   "metadata": {},
   "outputs": [
    {
     "data": {
      "text/plain": [
       "4-element Vector{String}:\n",
       " \"LLR\"\n",
       " \"AAA = (BBB, BBB)\"\n",
       " \"BBB = (AAA, ZZZ)\"\n",
       " \"ZZZ = (ZZZ, ZZZ)\""
      ]
     },
     "execution_count": 23,
     "metadata": {},
     "output_type": "execute_result"
    }
   ],
   "source": [
    "example2 = [\n",
    "    \"LLR\",\n",
    "    \"AAA = (BBB, BBB)\",\n",
    "    \"BBB = (AAA, ZZZ)\",\n",
    "    \"ZZZ = (ZZZ, ZZZ)\"\n",
    "]"
   ]
  },
  {
   "cell_type": "markdown",
   "metadata": {},
   "source": [
    "Starting at AAA, follow the left/right instructions. How many steps are required to reach ZZZ?"
   ]
  },
  {
   "cell_type": "code",
   "execution_count": 24,
   "metadata": {},
   "outputs": [
    {
     "data": {
      "text/plain": [
       "walk (generic function with 1 method)"
      ]
     },
     "execution_count": 24,
     "metadata": {},
     "output_type": "execute_result"
    }
   ],
   "source": [
    "using ResumableFunctions\n",
    "\n",
    "struct Node\n",
    "    key::AbstractString\n",
    "    left::AbstractString\n",
    "    right::AbstractString\n",
    "end\n",
    "\n",
    "function parsegraph(contents)\n",
    "    Dict(\n",
    "        map(\n",
    "            function (content)\n",
    "                (key, left, right) = match(r\"(\\w{3}) = \\((\\w{3}), (\\w{3})\\)\", content)\n",
    "                \"$key\" => Node(key, left, right)\n",
    "            end,\n",
    "            contents\n",
    "        )\n",
    "    )\n",
    "end\n",
    "\n",
    "@resumable function walk(start, graph, steps)\n",
    "    stepindex = firstindex(steps)\n",
    "    node = start\n",
    "    while true\n",
    "        s = steps[stepindex]\n",
    "        stepindex += 1\n",
    "        if stepindex > lastindex(steps)\n",
    "            stepindex = firstindex(steps)\n",
    "        end\n",
    "        if s === 'L'\n",
    "            node = get(graph, node.left, Node(node.left, node.left, node.left))\n",
    "        else\n",
    "            node = get(graph, node.right, Node(node.right, node.right, node.right))\n",
    "        end\n",
    "        @yield node\n",
    "    end\n",
    "end"
   ]
  },
  {
   "cell_type": "code",
   "execution_count": 25,
   "metadata": {},
   "outputs": [
    {
     "name": "stdout",
     "output_type": "stream",
     "text": [
      "2\n",
      "6\n"
     ]
    }
   ],
   "source": [
    "function partone(contents)\n",
    "   graph = parsegraph(contents[begin+1:end])\n",
    "   for (node, step) in zip(walk(graph[\"AAA\"], graph, contents[begin]), Iterators.countfrom(1))\n",
    "      if node.key == \"ZZZ\"\n",
    "         return step\n",
    "      end\n",
    "   end\n",
    "end\n",
    "\n",
    "println(partone(example1))\n",
    "println(partone(example2))\n"
   ]
  },
  {
   "cell_type": "markdown",
   "metadata": {},
   "source": [
    "## Part Two"
   ]
  },
  {
   "cell_type": "markdown",
   "metadata": {},
   "source": [
    "The sandstorm is upon you and you aren't any closer to escaping the wasteland. You had the camel follow the instructions, but you've barely left your starting position. It's going to take significantly more steps to escape!\n",
    "\n",
    "What if the map isn't for people - what if the map is for ghosts? Are ghosts even bound by the laws of spacetime? Only one way to find out.\n",
    "\n",
    "After examining the maps a bit longer, your attention is drawn to a curious fact: the number of nodes with names ending in A is equal to the number ending in Z! If you were a ghost, you'd probably just start at every node that ends with A and follow all of the paths at the same time until they all simultaneously end up at nodes that end with Z.\n",
    "\n",
    "For example:"
   ]
  },
  {
   "cell_type": "code",
   "execution_count": 26,
   "metadata": {},
   "outputs": [
    {
     "data": {
      "text/plain": [
       "9-element Vector{String}:\n",
       " \"LR\"\n",
       " \"11A = (11B, XXX)\"\n",
       " \"11B = (XXX, 11Z)\"\n",
       " \"11Z = (11B, XXX)\"\n",
       " \"22A = (22B, XXX)\"\n",
       " \"22B = (22C, 22C)\"\n",
       " \"22C = (22Z, 22Z)\"\n",
       " \"22Z = (22B, 22B)\"\n",
       " \"XXX = (XXX, XXX)\""
      ]
     },
     "execution_count": 26,
     "metadata": {},
     "output_type": "execute_result"
    }
   ],
   "source": [
    "example3 = [\n",
    "    \"LR\",\n",
    "    \"11A = (11B, XXX)\",\n",
    "    \"11B = (XXX, 11Z)\",\n",
    "    \"11Z = (11B, XXX)\",\n",
    "    \"22A = (22B, XXX)\",\n",
    "    \"22B = (22C, 22C)\",\n",
    "    \"22C = (22Z, 22Z)\",\n",
    "    \"22Z = (22B, 22B)\",\n",
    "    \"XXX = (XXX, XXX)\"\n",
    "]"
   ]
  },
  {
   "cell_type": "markdown",
   "metadata": {},
   "source": [
    "Here, there are two starting nodes, 11A and 22A (because they both end with A). As you follow each left/right instruction, use that instruction to simultaneously navigate away from both nodes you're currently on. Repeat this process until all of the nodes you're currently on end with Z. (If only some of the nodes you're on end with Z, they act like any other node and you continue as normal.) In this example, you would proceed as follows:\n",
    "\n",
    "- Step 0: You are at 11A and 22A.\n",
    "- Step 1: You choose all of the left paths, leading you to 11B and 22B.\n",
    "- Step 2: You choose all of the right paths, leading you to 11Z and 22C.\n",
    "- Step 3: You choose all of the left paths, leading you to 11B and 22Z.\n",
    "- Step 4: You choose all of the right paths, leading you to 11Z and 22B.\n",
    "- Step 5: You choose all of the left paths, leading you to 11B and 22C.\n",
    "- Step 6: You choose all of the right paths, leading you to 11Z and 22Z.\n",
    "\n",
    "So, in this example, you end up entirely on nodes that end in Z after 6 steps.\n",
    "\n",
    "Simultaneously start on every node that ends with A. How many steps does it take before you're only on nodes that end with Z?"
   ]
  },
  {
   "cell_type": "code",
   "execution_count": 27,
   "metadata": {},
   "outputs": [
    {
     "data": {
      "text/plain": [
       "6"
      ]
     },
     "execution_count": 27,
     "metadata": {},
     "output_type": "execute_result"
    }
   ],
   "source": [
    "using Primes\n",
    "\n",
    "function findnodes(graph)\n",
    "    [n for n = values(graph) if n.key[end] == 'A']\n",
    "end\n",
    "\n",
    "function findperiod(node, graph, steps)\n",
    "    tracking = Dict()\n",
    "    for (step, curnode) in zip(Iterators.countfrom(1), walk(node, graph, steps))\n",
    "        if curnode.key[end] == 'Z'\n",
    "            existing = get!(tracking, curnode.key, step)\n",
    "            if existing != step\n",
    "                return existing\n",
    "            end\n",
    "        end\n",
    "    end\n",
    "end\n",
    "\n",
    "function parttwo(contents)\n",
    "    graph = parsegraph(contents[begin+1:end])\n",
    "    nodes = findnodes(graph)\n",
    "    steps = contents[begin]\n",
    "    prod(map(v -> v[1], union(map(n -> Primes.factor(findperiod(n, graph, steps)), nodes)...)))\n",
    "end\n",
    "\n",
    "parttwo(example3)"
   ]
  },
  {
   "cell_type": "markdown",
   "metadata": {},
   "source": [
    "## Results"
   ]
  },
  {
   "cell_type": "code",
   "execution_count": 28,
   "metadata": {},
   "outputs": [
    {
     "name": "stdout",
     "output_type": "stream",
     "text": [
      "18113\n",
      "12315788159977\n"
     ]
    }
   ],
   "source": [
    "include(\"./aoc.jl\")\n",
    "execute(8, partone, parttwo)"
   ]
  }
 ],
 "metadata": {
  "kernelspec": {
   "display_name": "Julia 1.9.4",
   "language": "julia",
   "name": "julia-1.9"
  },
  "language_info": {
   "file_extension": ".jl",
   "mimetype": "application/julia",
   "name": "julia",
   "version": "1.9.4"
  }
 },
 "nbformat": 4,
 "nbformat_minor": 2
}
