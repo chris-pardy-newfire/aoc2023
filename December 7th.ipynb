{
 "cells": [
  {
   "cell_type": "markdown",
   "metadata": {},
   "source": [
    "# Day 7: Camel Cards"
   ]
  },
  {
   "cell_type": "markdown",
   "metadata": {},
   "source": [
    "## Part One"
   ]
  },
  {
   "cell_type": "markdown",
   "metadata": {},
   "source": [
    "Your all-expenses-paid trip turns out to be a one-way, five-minute ride in an airship. (At least it's a cool airship!) It drops you off at the edge of a vast desert and descends back to Island Island.\n",
    "\n",
    "\"Did you bring the parts?\"\n",
    "\n",
    "You turn around to see an Elf completely covered in white clothing, wearing goggles, and riding a large camel.\n",
    "\n",
    "\"Did you bring the parts?\" she asks again, louder this time. You aren't sure what parts she's looking for; you're here to figure out why the sand stopped.\n",
    "\n",
    "\"The parts! For the sand, yes! Come with me; I will show you.\" She beckons you onto the camel.\n",
    "\n",
    "After riding a bit across the sands of Desert Island, you can see what look like very large rocks covering half of the horizon. The Elf explains that the rocks are all along the part of Desert Island that is directly above Island Island, making it hard to even get there. Normally, they use big machines to move the rocks and filter the sand, but the machines have broken down because Desert Island recently stopped receiving the parts they need to fix the machines.\n",
    "\n",
    "You've already assumed it'll be your job to figure out why the parts stopped when she asks if you can help. You agree automatically.\n",
    "\n",
    "Because the journey will take a few days, she offers to teach you the game of Camel Cards. Camel Cards is sort of similar to poker except it's designed to be easier to play while riding a camel.\n",
    "\n",
    "In Camel Cards, you get a list of hands, and your goal is to order them based on the strength of each hand. A hand consists of five cards labeled one of A, K, Q, J, T, 9, 8, 7, 6, 5, 4, 3, or 2. The relative strength of each card follows this order, where A is the highest and 2 is the lowest.\n",
    "\n",
    "Every hand is exactly one type. From strongest to weakest, they are:\n",
    "\n",
    "- Five of a kind, where all five cards have the same label: AAAAA\n",
    "- Four of a kind, where four cards have the same label and one card has a different label: AA8AA\n",
    "- Full house, where three cards have the same label, and the remaining two cards share a different label: 23332\n",
    "- Three of a kind, where three cards have the same label, and the remaining two cards are each different from any other card in the hand: TTT98\n",
    "- Two pair, where two cards share one label, two other cards share a second label, and the remaining card has a third label: 23432\n",
    "- One pair, where two cards share one label, and the other three cards have a different label from the pair and each other: A23A4\n",
    "- High card, where all cards' labels are distinct: 23456\n",
    "\n",
    "Hands are primarily ordered based on type; for example, every full house is stronger than any three of a kind.\n",
    "\n",
    "If two hands have the same type, a second ordering rule takes effect. Start by comparing the first card in each hand. If these cards are different, the hand with the stronger first card is considered stronger. If the first card in each hand have the same label, however, then move on to considering the second card in each hand. If they differ, the hand with the higher second card wins; otherwise, continue with the third card in each hand, then the fourth, then the fifth.\n",
    "\n",
    "So, 33332 and 2AAAA are both four of a kind hands, but 33332 is stronger because its first card is stronger. Similarly, 77888 and 77788 are both a full house, but 77888 is stronger because its third card is stronger (and both hands have the same first and second card).\n",
    "\n",
    "To play Camel Cards, you are given a list of hands and their corresponding bid (your puzzle input). For example:\n"
   ]
  },
  {
   "cell_type": "code",
   "execution_count": 66,
   "metadata": {},
   "outputs": [
    {
     "data": {
      "text/plain": [
       "5-element Vector{String}:\n",
       " \"32T3K 765\"\n",
       " \"T55J5 684\"\n",
       " \"KK677 28\"\n",
       " \"KTJJT 220\"\n",
       " \"QQQJA 483\""
      ]
     },
     "execution_count": 66,
     "metadata": {},
     "output_type": "execute_result"
    }
   ],
   "source": [
    "example = [\n",
    "    \"32T3K 765\",\n",
    "    \"T55J5 684\",\n",
    "    \"KK677 28\",\n",
    "    \"KTJJT 220\",\n",
    "    \"QQQJA 483\"\n",
    "]\n"
   ]
  },
  {
   "cell_type": "markdown",
   "metadata": {},
   "source": [
    "This example shows five hands; each hand is followed by its bid amount. Each hand wins an amount equal to its bid multiplied by its rank, where the weakest hand gets rank 1, the second-weakest hand gets rank 2, and so on up to the strongest hand. Because there are five hands in this example, the strongest hand will have rank 5 and its bid will be multiplied by 5.\n",
    "\n",
    "So, the first step is to put the hands in order of strength:\n",
    "\n",
    "32T3K is the only one pair and the other hands are all a stronger type, so it gets rank 1.\n",
    "KK677 and KTJJT are both two pair. Their first cards both have the same label, but the second card of KK677 is stronger (K vs T), so KTJJT gets rank 2 and KK677 gets rank 3.\n",
    "T55J5 and QQQJA are both three of a kind. QQQJA has a stronger first card, so it gets rank 5 and T55J5 gets rank 4.\n",
    "Now, you can determine the total winnings of this set of hands by adding up the result of multiplying each hand's bid with its rank (765 * 1 + 220 * 2 + 28 * 3 + 684 * 4 + 483 * 5). So the total winnings in this example are 6440.\n",
    "\n",
    "Find the rank of every hand in your set. What are the total winnings?\n",
    "\n"
   ]
  },
  {
   "cell_type": "code",
   "execution_count": 67,
   "metadata": {},
   "outputs": [
    {
     "data": {
      "text/plain": [
       "parseln (generic function with 1 method)"
      ]
     },
     "execution_count": 67,
     "metadata": {},
     "output_type": "execute_result"
    }
   ],
   "source": [
    "import Base: isless\n",
    "\n",
    "struct Hand\n",
    "    cards::AbstractString\n",
    "    bet::Int\n",
    "    rank::Int\n",
    "end\n",
    "\n",
    "cardrank = Dict(\n",
    "    'A' => 1,\n",
    "    'K' => 2,\n",
    "    'Q' => 3,\n",
    "    'J' => 4,\n",
    "    'T' => 5,\n",
    "    '9' => 6,\n",
    "    '8' => 7,\n",
    "    '7' => 8,\n",
    "    '6' => 9,\n",
    "    '5' => 10,\n",
    "    '4' => 11,\n",
    "    '3' => 12,\n",
    "    '2' => 13,\n",
    "    '?' => 14\n",
    ")\n",
    "\n",
    "function handrank(cards::AbstractString)\n",
    "    hand = Dict()\n",
    "    jokers = 0\n",
    "    for c in cards\n",
    "        if c === '?'\n",
    "            jokers += 1\n",
    "        else\n",
    "            hand = Dict(hand..., c => get(hand, c, 0) + 1)\n",
    "        end\n",
    "    end\n",
    "    labels = length(hand)\n",
    "    if labels <= 1\n",
    "        return 1 # five of a kind\n",
    "    elseif labels === 2\n",
    "        maxOccurances = max(values(hand)...) + jokers\n",
    "        if maxOccurances == 4\n",
    "            return 2 # four of a kind\n",
    "        elseif maxOccurances == 3\n",
    "            return 3 # full house\n",
    "        end\n",
    "    elseif labels === 3\n",
    "        maxOccurances = max(values(hand)...) + jokers\n",
    "        if maxOccurances == 3\n",
    "            return 4 # 3 of a kind\n",
    "        elseif maxOccurances == 2\n",
    "            return 5 # 2 pair\n",
    "        end\n",
    "    elseif labels == 4\n",
    "        return 6 # one pair\n",
    "    else\n",
    "        return 7 #high card\n",
    "    end\n",
    "end\n",
    "\n",
    "function isless(a::Hand, b::Hand)\n",
    "    ## hand rank order\n",
    "    if a.rank !== b.rank\n",
    "        return a.rank < b.rank\n",
    "    end\n",
    "    for i in firstindex(a.cards):lastindex(a.cards)\n",
    "        if a.cards[i] === b.cards[i]\n",
    "            continue\n",
    "        end\n",
    "        return cardrank[a.cards[i]] < cardrank[b.cards[i]]\n",
    "    end\n",
    "end\n",
    "\n",
    "function parseln(ln::AbstractString)\n",
    "    (cards, bet) = split(ln)\n",
    "    Hand(\n",
    "        cards,\n",
    "        parse(Int, bet),\n",
    "        handrank(cards)\n",
    "    )\n",
    "end\n",
    "\n"
   ]
  },
  {
   "cell_type": "code",
   "execution_count": 68,
   "metadata": {},
   "outputs": [
    {
     "data": {
      "text/plain": [
       "6440"
      ]
     },
     "execution_count": 68,
     "metadata": {},
     "output_type": "execute_result"
    }
   ],
   "source": [
    "function partone(contents)\n",
    "    hands = sort(parseln.(contents), rev=true)\n",
    "    sum(map(z -> z[1].bet * z[2], zip(hands, Iterators.countfrom())))\n",
    "end\n",
    "\n",
    "partone(example)"
   ]
  },
  {
   "cell_type": "markdown",
   "metadata": {},
   "source": [
    "## Part Two"
   ]
  },
  {
   "cell_type": "markdown",
   "metadata": {},
   "source": [
    "To make things a little more interesting, the Elf introduces one additional rule. Now, J cards are jokers - wildcards that can act like whatever card would make the hand the strongest type possible.\n",
    "\n",
    "To balance this, J cards are now the weakest individual cards, weaker even than 2. The other cards stay in the same order: A, K, Q, T, 9, 8, 7, 6, 5, 4, 3, 2, J.\n",
    "\n",
    "J cards can pretend to be whatever card is best for the purpose of determining hand type; for example, QJJQ2 is now considered four of a kind. However, for the purpose of breaking ties between two hands of the same type, J is always treated as J, not the card it's pretending to be: JKKK2 is weaker than QQQQ2 because J is weaker than Q.\n",
    "\n",
    "Now, the above example goes very differently:\n"
   ]
  },
  {
   "cell_type": "code",
   "execution_count": 69,
   "metadata": {},
   "outputs": [
    {
     "data": {
      "text/plain": [
       "5-element Vector{String}:\n",
       " \"32T3K 765\"\n",
       " \"T55J5 684\"\n",
       " \"KK677 28\"\n",
       " \"KTJJT 220\"\n",
       " \"QQQJA 483\""
      ]
     },
     "execution_count": 69,
     "metadata": {},
     "output_type": "execute_result"
    }
   ],
   "source": [
    "example"
   ]
  },
  {
   "cell_type": "markdown",
   "metadata": {},
   "source": [
    "32T3K is still the only one pair; it doesn't contain any jokers, so its strength doesn't increase.\n",
    "KK677 is now the only two pair, making it the second-weakest hand.\n",
    "T55J5, KTJJT, and QQQJA are now all four of a kind! T55J5 gets rank 3, QQQJA gets rank 4, and KTJJT gets rank 5.\n",
    "With the new joker rule, the total winnings in this example are 5905.\n",
    "\n",
    "Using the new joker rule, find the rank of every hand in your set. What are the new total winnings?"
   ]
  },
  {
   "cell_type": "code",
   "execution_count": 72,
   "metadata": {},
   "outputs": [
    {
     "data": {
      "text/plain": [
       "5905"
      ]
     },
     "execution_count": 72,
     "metadata": {},
     "output_type": "execute_result"
    }
   ],
   "source": [
    "function parttwo(contents)\n",
    "    ## transform jokers from J to ? to simplify re-use of the component algorithms\n",
    "    hands = sort(parseln.(map(ln -> replace(ln, 'J' => '?'), contents)), rev=true)\n",
    "    sum(map(z -> z[1].bet * z[2], zip(hands, Iterators.countfrom())))\n",
    "end\n",
    "\n",
    "parttwo(example)"
   ]
  },
  {
   "cell_type": "markdown",
   "metadata": {},
   "source": [
    "## Results"
   ]
  },
  {
   "cell_type": "code",
   "execution_count": 71,
   "metadata": {},
   "outputs": [
    {
     "name": "stdout",
     "output_type": "stream",
     "text": [
      "250602641\n",
      "251037509\n"
     ]
    }
   ],
   "source": [
    "include(\"./aoc.jl\")\n",
    "\n",
    "execute(7, partone, parttwo)"
   ]
  }
 ],
 "metadata": {
  "kernelspec": {
   "display_name": "Julia 1.9.4",
   "language": "julia",
   "name": "julia-1.9"
  },
  "language_info": {
   "file_extension": ".jl",
   "mimetype": "application/julia",
   "name": "julia",
   "version": "1.9.4"
  }
 },
 "nbformat": 4,
 "nbformat_minor": 2
}
