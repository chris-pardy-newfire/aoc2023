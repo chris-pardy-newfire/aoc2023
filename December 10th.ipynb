{
 "cells": [
  {
   "cell_type": "markdown",
   "metadata": {},
   "source": [
    "# Day 10: Pipe Maze"
   ]
  },
  {
   "cell_type": "markdown",
   "metadata": {},
   "source": [
    "## Part One"
   ]
  },
  {
   "cell_type": "markdown",
   "metadata": {},
   "source": [
    "You use the hang glider to ride the hot air from Desert Island all the way up to the floating metal island. This island is surprisingly cold and there definitely aren't any thermals to glide on, so you leave your hang glider behind.\n",
    "\n",
    "You wander around for a while, but you don't find any people or animals. However, you do occasionally find signposts labeled \"Hot Springs\" pointing in a seemingly consistent direction; maybe you can find someone at the hot springs and ask them where the desert-machine parts are made.\n",
    "\n",
    "The landscape here is alien; even the flowers and trees are made of metal. As you stop to admire some metal grass, you notice something metallic scurry away in your peripheral vision and jump into a big pipe! It didn't look like any animal you've ever seen; if you want a better look, you'll need to get ahead of it.\n",
    "\n",
    "Scanning the area, you discover that the entire field you're standing on is densely packed with pipes; it was hard to tell at first because they're the same metallic silver color as the \"ground\". You make a quick sketch of all of the surface pipes you can see (your puzzle input).\n",
    "\n",
    "The pipes are arranged in a two-dimensional grid of tiles:\n",
    "\n",
    "- `|` is a vertical pipe connecting north and south.\n",
    "- `-` is a horizontal pipe connecting east and west.\n",
    "- `L` is a 90-degree bend connecting north and east.\n",
    "- `J` is a 90-degree bend connecting north and west.\n",
    "- `7` is a 90-degree bend connecting south and west.\n",
    "- `F` is a 90-degree bend connecting south and east.\n",
    "- `.` is ground; there is no pipe in this tile.\n",
    "- `S` is the starting position of the animal; there is a pipe on this tile, but your sketch doesn't show what shape the pipe has.\n",
    "\n",
    "Based on the acoustics of the animal's scurrying, you're confident the pipe that contains the animal is one large, continuous loop.\n",
    "\n",
    "For example, here is a square loop of pipe:\n",
    "\n",
    "```\n",
    ".....\n",
    ".F-7.\n",
    ".|.|.\n",
    ".L-J.\n",
    ".....\n",
    "```\n",
    "\n",
    "If the animal had entered this loop in the northwest corner, the sketch would instead look like this:\n",
    "\n",
    "```\n",
    ".....\n",
    ".S-7.\n",
    ".|.|.\n",
    ".L-J.\n",
    ".....\n",
    "```\n",
    "\n",
    "In the above diagram, the S tile is still a 90-degree F bend: you can tell because of how the adjacent pipes connect to it.\n",
    "\n",
    "Unfortunately, there are also many pipes that aren't connected to the loop! This sketch shows the same loop as above:"
   ]
  },
  {
   "cell_type": "code",
   "execution_count": 28,
   "metadata": {},
   "outputs": [
    {
     "data": {
      "text/plain": [
       "5-element Vector{String}:\n",
       " \"-L|F7\"\n",
       " \"7S-7|\"\n",
       " \"L|7||\"\n",
       " \"-L-J|\"\n",
       " \"L|-JF\""
      ]
     },
     "execution_count": 28,
     "metadata": {},
     "output_type": "execute_result"
    }
   ],
   "source": [
    "example1 = [\n",
    "    \"-L|F7\",\n",
    "    \"7S-7|\",\n",
    "    \"L|7||\",\n",
    "    \"-L-J|\",\n",
    "    \"L|-JF\"\n",
    "]"
   ]
  },
  {
   "cell_type": "markdown",
   "metadata": {},
   "source": [
    "In the above diagram, you can still figure out which pipes form the main loop: they're the ones connected to S, pipes those pipes connect to, pipes those pipes connect to, and so on. Every pipe in the main loop connects to its two neighbors (including S, which will have exactly two pipes connecting to it, and which is assumed to connect back to those two pipes).\n",
    "\n",
    "Here is a sketch that contains a slightly more complex main loop:\n",
    "\n",
    "```\n",
    "..F7.\n",
    ".FJ|.\n",
    "SJ.L7\n",
    "|F--J\n",
    "LJ...\n",
    "```\n",
    "\n",
    "Here's the same example sketch with the extra, non-main-loop pipe tiles also shown:"
   ]
  },
  {
   "cell_type": "code",
   "execution_count": 29,
   "metadata": {},
   "outputs": [
    {
     "data": {
      "text/plain": [
       "5-element Vector{String}:\n",
       " \"7-F7-\"\n",
       " \".FJ|7\"\n",
       " \"SJLL7\"\n",
       " \"|F--J\"\n",
       " \"LJ.LJ\""
      ]
     },
     "execution_count": 29,
     "metadata": {},
     "output_type": "execute_result"
    }
   ],
   "source": [
    "example2 = [\n",
    "    \"7-F7-\",\n",
    "    \".FJ|7\",\n",
    "    \"SJLL7\",\n",
    "    \"|F--J\",\n",
    "    \"LJ.LJ\"\n",
    "]"
   ]
  },
  {
   "cell_type": "markdown",
   "metadata": {},
   "source": [
    "If you want to get out ahead of the animal, you should find the tile in the loop that is farthest from the starting position. Because the animal is in the pipe, it doesn't make sense to measure this by direct distance. Instead, you need to find the tile that would take the longest number of steps along the loop to reach from the starting point - regardless of which way around the loop the animal went.\n",
    "\n",
    "In the first example with the square loop:\n",
    "\n",
    "```\n",
    ".....\n",
    ".S-7.\n",
    ".|.|.\n",
    ".L-J.\n",
    ".....\n",
    "```\n",
    "You can count the distance each tile in the loop is from the starting point like this:\n",
    "\n",
    "```\n",
    ".....\n",
    ".012.\n",
    ".1.3.\n",
    ".234.\n",
    ".....\n",
    "```\n",
    "In this example, the farthest point from the start is 4 steps away.\n",
    "\n",
    "Here's the more complex loop again:\n",
    "\n",
    "```\n",
    "..F7.\n",
    ".FJ|.\n",
    "SJ.L7\n",
    "|F--J\n",
    "LJ...\n",
    "```\n",
    "Here are the distances for each tile on that loop:\n",
    "\n",
    "```\n",
    "..45.\n",
    ".236.\n",
    "01.78\n",
    "14567\n",
    "23...\n",
    "```\n",
    "\n",
    "Find the single giant loop starting at S. How many steps along the loop does it take to get from the starting position to the point farthest from the starting position?"
   ]
  },
  {
   "cell_type": "code",
   "execution_count": 30,
   "metadata": {},
   "outputs": [
    {
     "data": {
      "text/plain": [
       "findstart (generic function with 1 method)"
      ]
     },
     "execution_count": 30,
     "metadata": {},
     "output_type": "execute_result"
    }
   ],
   "source": [
    "using ResumableFunctions\n",
    "\n",
    "function ispossible(pipe, direction)\n",
    "    if direction == (1, 0)\n",
    "        return pipe == '|' || pipe == 'L' || pipe == 'J'\n",
    "    elseif direction == (-1, 0)\n",
    "        return pipe == '|' || pipe == '7' || pipe == 'F'\n",
    "    elseif direction == (0, 1)\n",
    "        return pipe == '-' || pipe == '7' || pipe == 'J'\n",
    "    elseif direction == (0, -1)\n",
    "        return pipe == '-' || pipe == 'L' || pipe == 'F'\n",
    "    end\n",
    "    return false\n",
    "end\n",
    "\n",
    "function isinbounds(contents, position)\n",
    "    if position[1] < firstindex(contents) || position[1] > lastindex(contents)\n",
    "        return false\n",
    "    end\n",
    "    if position[2] < firstindex(contents[position[1]]) || position[2] > lastindex(contents[position[1]])\n",
    "        return false\n",
    "    end\n",
    "    return true\n",
    "end\n",
    "\n",
    "function nextdirection(pipe, direction)\n",
    "    if pipe == 'L'\n",
    "        direction .+ (-1, 1)\n",
    "    elseif pipe == 'J'\n",
    "        direction .+ (-1, -1)\n",
    "    elseif pipe == '7'\n",
    "        direction .+ (1, -1)\n",
    "    elseif pipe == 'F'\n",
    "        direction .+ (1, 1)\n",
    "    else\n",
    "        direction\n",
    "    end\n",
    "end\n",
    "\n",
    "@resumable function walk(contents, initialposition, initialdirection)\n",
    "    d = initialdirection\n",
    "    p = initialposition\n",
    "    s = contents[p[1]][p[2]]\n",
    "    while ispossible(s, d)\n",
    "        @yield p\n",
    "        d = nextdirection(s, d)\n",
    "        p = p .+ d\n",
    "        if !isinbounds(contents, p)\n",
    "            break\n",
    "        end\n",
    "        s = contents[p[1]][p[2]]\n",
    "    end\n",
    "end\n",
    "\n",
    "function findstart(contents)\n",
    "    for y in firstindex(contents):lastindex(contents)\n",
    "        for x in firstindex(contents[y]):lastindex(contents[y])\n",
    "            if contents[y][x] == 'S'\n",
    "                return (y, x)\n",
    "            end\n",
    "        end\n",
    "    end\n",
    "end"
   ]
  },
  {
   "cell_type": "code",
   "execution_count": 31,
   "metadata": {},
   "outputs": [
    {
     "name": "stdout",
     "output_type": "stream",
     "text": [
      "4\n",
      "8\n"
     ]
    }
   ],
   "source": [
    "function partone(contents)\n",
    "    startposition = findstart(contents)\n",
    "    for (step, coords...) in zip(Iterators.countfrom(1), map(d -> walk(contents, startposition .+ d, d),\n",
    "        filter(\n",
    "            function (direction)\n",
    "                p = startposition .+ direction\n",
    "                return isinbounds(contents, p) && ispossible(contents[p[1]][p[2]], direction)\n",
    "            end,\n",
    "            [(0, 1), (0, -1), (1, 0), (-1, 0)]\n",
    "        ))...)\n",
    "        if coords[1] == coords[2]\n",
    "            return step\n",
    "        end\n",
    "    end\n",
    "end\n",
    "\n",
    "println(partone(example1))\n",
    "println(partone(example2))"
   ]
  },
  {
   "cell_type": "markdown",
   "metadata": {},
   "source": [
    "## Part Two"
   ]
  },
  {
   "cell_type": "markdown",
   "metadata": {},
   "source": [
    "You quickly reach the farthest point of the loop, but the animal never emerges. Maybe its nest is within the area enclosed by the loop?\n",
    "\n",
    "To determine whether it's even worth taking the time to search for such a nest, you should calculate how many tiles are contained within the loop. For example:"
   ]
  },
  {
   "cell_type": "code",
   "execution_count": 32,
   "metadata": {},
   "outputs": [
    {
     "data": {
      "text/plain": [
       "9-element Vector{String}:\n",
       " \"...........\"\n",
       " \".S-------7.\"\n",
       " \".|F-----7|.\"\n",
       " \".||.....||.\"\n",
       " \".||.....||.\"\n",
       " \".|L-7.F-J|.\"\n",
       " \".|..|.|..|.\"\n",
       " \".L--J.L--J.\"\n",
       " \"...........\""
      ]
     },
     "execution_count": 32,
     "metadata": {},
     "output_type": "execute_result"
    }
   ],
   "source": [
    "example3 = [\n",
    "    \"...........\",\n",
    "    \".S-------7.\",\n",
    "    \".|F-----7|.\",\n",
    "    \".||.....||.\",\n",
    "    \".||.....||.\",\n",
    "    \".|L-7.F-J|.\",\n",
    "    \".|..|.|..|.\",\n",
    "    \".L--J.L--J.\",\n",
    "    \"...........\"\n",
    "]"
   ]
  },
  {
   "cell_type": "markdown",
   "metadata": {},
   "source": [
    "The above loop encloses merely four tiles - the two pairs of . in the southwest and southeast (marked I below). The middle . tiles (marked O below) are not in the loop. Here is the same loop again with those regions marked:\n",
    "\n",
    "```\n",
    "...........\n",
    ".S-------7.\n",
    ".|F-----7|.\n",
    ".||OOOOO||.\n",
    ".||OOOOO||.\n",
    ".|L-7OF-J|.\n",
    ".|II|O|II|.\n",
    ".L--JOL--J.\n",
    ".....O.....\n",
    "```\n",
    "\n",
    "In fact, there doesn't even need to be a full tile path to the outside for tiles to count as outside the loop - squeezing between pipes is also allowed! Here, I is still within the loop and O is still outside the loop:\n",
    "\n",
    "```\n",
    "..........\n",
    ".S------7.\n",
    ".|F----7|.\n",
    ".||OOOO||.\n",
    ".||OOOO||.\n",
    ".|L-7F-J|.\n",
    ".|II||II|.\n",
    ".L--JL--J.\n",
    "..........\n",
    "```\n",
    "\n",
    "In both of the above examples, 4 tiles are enclosed by the loop.\n",
    "\n",
    "Here's a larger example:\n",
    "\n",
    "```\n",
    ".F----7F7F7F7F-7....\n",
    ".|F--7||||||||FJ....\n",
    ".||.FJ||||||||L7....\n",
    "FJL7L7LJLJ||LJ.L-7..\n",
    "L--J.L7...LJS7F-7L7.\n",
    "....F-J..F7FJ|L7L7L7\n",
    "....L7.F7||L7|.L7L7|\n",
    ".....|FJLJ|FJ|F7|.LJ\n",
    "....FJL-7.||.||||...\n",
    "....L---J.LJ.LJLJ...\n",
    "```\n",
    "\n",
    "The above sketch has many random bits of ground, some of which are in the loop (I) and some of which are outside it (O):\n",
    "\n",
    "```\n",
    "OF----7F7F7F7F-7OOOO\n",
    "O|F--7||||||||FJOOOO\n",
    "O||OFJ||||||||L7OOOO\n",
    "FJL7L7LJLJ||LJIL-7OO\n",
    "L--JOL7IIILJS7F-7L7O\n",
    "OOOOF-JIIF7FJ|L7L7L7\n",
    "OOOOL7IF7||L7|IL7L7|\n",
    "OOOOO|FJLJ|FJ|F7|OLJ\n",
    "OOOOFJL-7O||O||||OOO\n",
    "OOOOL---JOLJOLJLJOOO\n",
    "```\n",
    "\n",
    "In this larger example, 8 tiles are enclosed by the loop.\n",
    "\n",
    "Any tile that isn't part of the main loop can count as being enclosed by the loop. Here's another example with many bits of junk pipe lying around that aren't connected to the main loop at all:"
   ]
  },
  {
   "cell_type": "code",
   "execution_count": 33,
   "metadata": {},
   "outputs": [
    {
     "data": {
      "text/plain": [
       "10-element Vector{String}:\n",
       " \"FF7FSF7F7F7F7F7F---7\"\n",
       " \"L|LJ||||||||||||F--J\"\n",
       " \"FL-7LJLJ||||||LJL-77\"\n",
       " \"F--JF--7||LJLJ7F7FJ-\"\n",
       " \"L---JF-JLJ.||-FJLJJ7\"\n",
       " \"|F|F-JF---7F7-L7L|7|\"\n",
       " \"|FFJF7L7F-JF7|JL---7\"\n",
       " \"7-L-JL7||F7|L7F-7F7|\"\n",
       " \"L.L7LFJ|||||FJL7||LJ\"\n",
       " \"L7JLJL-JLJLJL--JLJ.L\""
      ]
     },
     "execution_count": 33,
     "metadata": {},
     "output_type": "execute_result"
    }
   ],
   "source": [
    "example4 = [\n",
    "    \"FF7FSF7F7F7F7F7F---7\",\n",
    "    \"L|LJ||||||||||||F--J\",\n",
    "    \"FL-7LJLJ||||||LJL-77\",\n",
    "    \"F--JF--7||LJLJ7F7FJ-\",\n",
    "    \"L---JF-JLJ.||-FJLJJ7\",\n",
    "    \"|F|F-JF---7F7-L7L|7|\",\n",
    "    \"|FFJF7L7F-JF7|JL---7\",\n",
    "    \"7-L-JL7||F7|L7F-7F7|\",\n",
    "    \"L.L7LFJ|||||FJL7||LJ\",\n",
    "    \"L7JLJL-JLJLJL--JLJ.L\"\n",
    "]"
   ]
  },
  {
   "cell_type": "markdown",
   "metadata": {},
   "source": [
    "Here are just the tiles that are enclosed by the loop marked with I:\n",
    "\n",
    "```\n",
    "FF7FSF7F7F7F7F7F---7\n",
    "L|LJ||||||||||||F--J\n",
    "FL-7LJLJ||||||LJL-77\n",
    "F--JF--7||LJLJIF7FJ-\n",
    "L---JF-JLJIIIIFJLJJ7\n",
    "|F|F-JF---7IIIL7L|7|\n",
    "|FFJF7L7F-JF7IIL---7\n",
    "7-L-JL7||F7|L7F-7F7|\n",
    "L.L7LFJ|||||FJL7||LJ\n",
    "L7JLJL-JLJLJL--JLJ.L\n",
    "```\n",
    "\n",
    "In this last example, 10 tiles are enclosed by the loop.\n",
    "\n",
    "Figure out whether you have time to search for the nest by calculating the area within the loop. How many tiles are enclosed by the loop?"
   ]
  },
  {
   "cell_type": "code",
   "execution_count": 34,
   "metadata": {},
   "outputs": [
    {
     "data": {
      "text/plain": [
       "isenclosed (generic function with 1 method)"
      ]
     },
     "execution_count": 34,
     "metadata": {},
     "output_type": "execute_result"
    }
   ],
   "source": [
    "## a set of coordinates to track which are the ones in the loop, and which are extra pipe that we can ignore.\n",
    "function loopindexes(contents)\n",
    "    startposition = findstart(contents)\n",
    "    indexes = Set([startposition])\n",
    "    for d in [(0, 1), (0, -1), (1, 0), (-1, 0)]\n",
    "        p = startposition .+ d\n",
    "        if isinbounds(contents, p) && ispossible(contents[p[1]][p[2]], d)\n",
    "            for n in walk(contents, p, d)\n",
    "                push!(indexes, n)\n",
    "                if n === startposition\n",
    "                    break\n",
    "                end\n",
    "            end\n",
    "            break\n",
    "        end\n",
    "    end\n",
    "    return indexes\n",
    "end\n",
    "\n",
    "## figure out what pipe should be used in place of S basically solve for the pipe that fits into the loop in it's place.\n",
    "function determines(contents, sposition)\n",
    "    (top, right, bottom, left) = map(\n",
    "        function (d)\n",
    "            p = sposition .+ d\n",
    "            return isinbounds(contents, p) && ispossible(contents[p[1]][p[2]], d)\n",
    "        end,\n",
    "        [(-1, 0), (0, 1), (1, 0), (0, -1)]\n",
    "    )\n",
    "    if top\n",
    "        if right\n",
    "            return 'L'\n",
    "        elseif bottom\n",
    "            return '|'\n",
    "        else\n",
    "            return 'J'\n",
    "        end\n",
    "    elseif bottom\n",
    "        if right\n",
    "            return 'F'\n",
    "        else\n",
    "            return '7'\n",
    "        end\n",
    "    else\n",
    "        return '-'\n",
    "    end\n",
    "end\n",
    "\n",
    "## adaptation of the even/odd rule for shape filing in vector graphics\n",
    "function isenclosed(contents, position, indexes)\n",
    "    ## go from the position to the left edge in a stright line\n",
    "    ## track the number of times we cross a | pipe\n",
    "    intersections = 0\n",
    "    ## track how many corners we could go over (F, 7)\n",
    "    unders = 0\n",
    "    ## track how many corners we could go under (L, J)\n",
    "    overs = 0\n",
    "    for x in 1:position[2]\n",
    "        if (position[1], x) in indexes\n",
    "            s = contents[position[1]][x]\n",
    "            if s == 'S'\n",
    "                s = determines(contents, (position[1], x))\n",
    "            end\n",
    "            if s == '|'\n",
    "                intersections += 1\n",
    "            elseif s == '7' || s == 'F'\n",
    "                overs += 1\n",
    "            elseif s == 'L' || s == 'J'\n",
    "                unders += 1\n",
    "            end\n",
    "        end\n",
    "    end\n",
    "    ## we must cross | pipes, we have to cross a pair of corers that we can go over and under, use min to count pairs\n",
    "    ## eg. |F7J <- this is 2 crossings since we go through the |, over the F and 7, and through the J\n",
    "    ## if we cross an odd number of lines then we must be encosed by the shape, otherwise we are not.\n",
    "    return isodd(intersections + min(unders, overs))\n",
    "end"
   ]
  },
  {
   "cell_type": "code",
   "execution_count": 35,
   "metadata": {},
   "outputs": [
    {
     "name": "stdout",
     "output_type": "stream",
     "text": [
      "4\n",
      "10\n"
     ]
    }
   ],
   "source": [
    "function parttwo(contents)\n",
    "    indexes = loopindexes(contents)\n",
    "    enclosed = 0\n",
    "    for y in firstindex(contents):lastindex(contents)\n",
    "        for x in firstindex(contents[y]):lastindex(contents[y])\n",
    "            if (y, x) in indexes\n",
    "                continue\n",
    "            elseif isenclosed(contents, (y, x), indexes)\n",
    "                enclosed += 1\n",
    "            end\n",
    "        end\n",
    "    end\n",
    "    return enclosed\n",
    "end\n",
    "\n",
    "println(parttwo(example3))\n",
    "println(parttwo(example4))"
   ]
  },
  {
   "cell_type": "markdown",
   "metadata": {},
   "source": [
    "## Results"
   ]
  },
  {
   "cell_type": "code",
   "execution_count": 36,
   "metadata": {},
   "outputs": [
    {
     "name": "stdout",
     "output_type": "stream",
     "text": [
      "7063\n",
      "589\n"
     ]
    }
   ],
   "source": [
    "include(\"./aoc.jl\")\n",
    "\n",
    "execute(10, partone, parttwo)"
   ]
  }
 ],
 "metadata": {
  "kernelspec": {
   "display_name": "Julia 1.9.4",
   "language": "julia",
   "name": "julia-1.9"
  },
  "language_info": {
   "file_extension": ".jl",
   "mimetype": "application/julia",
   "name": "julia",
   "version": "1.9.4"
  }
 },
 "nbformat": 4,
 "nbformat_minor": 2
}
