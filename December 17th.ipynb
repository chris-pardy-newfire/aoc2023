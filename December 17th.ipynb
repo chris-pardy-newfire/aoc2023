{
 "cells": [
  {
   "cell_type": "markdown",
   "metadata": {},
   "source": [
    "# December 17th"
   ]
  },
  {
   "cell_type": "markdown",
   "metadata": {},
   "source": [
    "Heat Loss We've got a grid again and we've got to learn things about every square let's do this.\n",
    "There's a path that goes from the start to the end minimizing heat loss but it would have too many straight line segments."
   ]
  },
  {
   "cell_type": "code",
   "execution_count": 30,
   "metadata": {},
   "outputs": [
    {
     "data": {
      "text/plain": [
       "102"
      ]
     },
     "execution_count": 30,
     "metadata": {},
     "output_type": "execute_result"
    }
   ],
   "source": [
    "example = [\n",
    "    \"2413432311323\",\n",
    "    \"3215453535623\",\n",
    "    \"3255245654254\",\n",
    "    \"3446585845452\",\n",
    "    \"4546657867536\",\n",
    "    \"1438598798454\",\n",
    "    \"4457876987766\",\n",
    "    \"3637877979653\",\n",
    "    \"4654967986887\",\n",
    "    \"4564679986453\",\n",
    "    \"1224686865563\",\n",
    "    \"2546548887735\",\n",
    "    \"4322674655533\"\n",
    "]\n",
    "\n",
    "examplepartoneresult = 102"
   ]
  },
  {
   "cell_type": "code",
   "execution_count": 31,
   "metadata": {},
   "outputs": [
    {
     "data": {
      "text/plain": [
       "astar (generic function with 3 methods)"
      ]
     },
     "execution_count": 31,
     "metadata": {},
     "output_type": "execute_result"
    }
   ],
   "source": [
    "using DataStructures\n",
    "import Base: isless\n",
    "using IJulia\n",
    "\n",
    "struct Step\n",
    "    heatloss::Int\n",
    "    currentposition::Tuple{Int,Int}\n",
    "    direction::Tuple{Int,Int}\n",
    "    currentsteps::Int\n",
    "    previous::Union{Step,Nothing}\n",
    "end\n",
    "\n",
    "function isless(a::Step, b::Step)\n",
    "    return a.heatloss < b.heatloss\n",
    "end\n",
    "\n",
    "directions = Dict([\n",
    "    (0, 1) => [(0, 1), (1, 0), (-1, 0)],\n",
    "    (0, -1) => [(0, -1), (1, 0), (-1, 0)],\n",
    "    (1, 0) => [(1, 0), (0, 1), (0, -1)],\n",
    "    (-1, 0) => [(-1, 0), (0, 1), (0, -1)]\n",
    "])\n",
    "\n",
    "function addoptions(step::Step, grid::Matrix{Int}, candidates::BinaryMinHeap{Step}, maxsteps::Int, minsteps::Int)\n",
    "    newdirections = step.currentsteps < minsteps ? [step.direction] : directions[step.direction]\n",
    "    for newdirection in newdirections\n",
    "        (ty, tx) = step.currentposition .+ newdirection\n",
    "        steps = newdirection == step.direction ? step.currentsteps + 1 : 1\n",
    "\n",
    "        if steps > maxsteps\n",
    "            continue\n",
    "        end\n",
    "\n",
    "        if ty >= firstindex(grid, 1) && ty <= lastindex(grid, 1) && tx >= firstindex(grid, 2) && tx <= lastindex(grid, 2)\n",
    "            push!(candidates, Step(\n",
    "                step.heatloss + grid[ty, tx],\n",
    "                (ty, tx),\n",
    "                newdirection,\n",
    "                steps,\n",
    "                step\n",
    "            ))\n",
    "        end\n",
    "    end\n",
    "end\n",
    "\n",
    "function printgrid(step::Step, grid::Matrix{Int})\n",
    "    printing = map(n -> string(n), copy(grid))\n",
    "    while !isnothing(step)\n",
    "        printing[step.currentposition[1], step.currentposition[2]] = if step.direction == (-1, 0)\n",
    "            \"^\"\n",
    "        elseif step.direction == (1, 0)\n",
    "            \"v\"\n",
    "        elseif step.direction == (0, -1)\n",
    "            \"<\"\n",
    "        elseif step.direction == (0, 1)\n",
    "            \">\"\n",
    "        else\n",
    "            \"S\"\n",
    "        end\n",
    "        step = step.previous\n",
    "    end\n",
    "    for y in firstindex(printing, 1):lastindex(printing, 1)\n",
    "        println(string(printing[y, :]...))\n",
    "    end\n",
    "end\n",
    "\n",
    "function astar(grid, maxsteps, minsteps)\n",
    "    candidates = BinaryMinHeap([\n",
    "        Step(0, (firstindex(grid, 1), firstindex(grid, 2)), (1, 0), 0, nothing),\n",
    "        Step(0, (firstindex(grid, 1), firstindex(grid, 2)), (0, 1), 0, nothing)\n",
    "    ])\n",
    "    visited = Set()\n",
    "    while !isempty(candidates)\n",
    "        c = pop!(candidates)\n",
    "        key = (c.currentposition, c.direction, c.currentsteps)\n",
    "        if key in visited\n",
    "            continue\n",
    "        end\n",
    "        push!(visited, key)\n",
    "        if c.currentposition == (lastindex(grid, 1), lastindex(grid, 2)) && c.currentsteps >= minsteps\n",
    "            return c\n",
    "        end\n",
    "        addoptions(c, grid, candidates, maxsteps, minsteps)\n",
    "    end\n",
    "    return best\n",
    "end"
   ]
  },
  {
   "cell_type": "code",
   "execution_count": 32,
   "metadata": {},
   "outputs": [
    {
     "data": {
      "text/plain": [
       "true"
      ]
     },
     "execution_count": 32,
     "metadata": {},
     "output_type": "execute_result"
    }
   ],
   "source": [
    "include(\"./aoc.jl\")\n",
    "\n",
    "function partone(contents)\n",
    "    grid = map(v -> parse(Int, v), makegrid(contents))\n",
    "    astar(grid, 3, 1).heatloss\n",
    "end\n",
    "\n",
    "partone(example) == 102"
   ]
  },
  {
   "cell_type": "code",
   "execution_count": 33,
   "metadata": {},
   "outputs": [
    {
     "data": {
      "text/plain": [
       "true"
      ]
     },
     "execution_count": 33,
     "metadata": {},
     "output_type": "execute_result"
    }
   ],
   "source": [
    "function parttwo(contents)\n",
    "    grid = map(v -> parse(Int, v), makegrid(contents))\n",
    "    astar(grid, 10, 4).heatloss\n",
    "end\n",
    "\n",
    "parttwo(example) == 94"
   ]
  },
  {
   "cell_type": "markdown",
   "metadata": {},
   "source": [
    "## Results"
   ]
  },
  {
   "cell_type": "code",
   "execution_count": 34,
   "metadata": {},
   "outputs": [
    {
     "name": "stdout",
     "output_type": "stream",
     "text": [
      "638\n"
     ]
    }
   ],
   "source": [
    "execute(17, partone, parttwo)"
   ]
  }
 ],
 "metadata": {
  "kernelspec": {
   "display_name": "Julia 1.9.4",
   "language": "julia",
   "name": "julia-1.9"
  },
  "language_info": {
   "file_extension": ".jl",
   "mimetype": "application/julia",
   "name": "julia",
   "version": "1.9.4"
  }
 },
 "nbformat": 4,
 "nbformat_minor": 2
}
