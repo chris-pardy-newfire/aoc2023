{
 "cells": [
  {
   "cell_type": "markdown",
   "id": "f8386487-6c72-4592-bd51-8080aa0d31c0",
   "metadata": {},
   "source": [
    "# Advent of Code 2023 - December 1st"
   ]
  },
  {
   "cell_type": "markdown",
   "id": "fb3f3155",
   "metadata": {},
   "source": [
    "### Day 1: Trebuchet?!\n",
    "Something is wrong with global snow production, and you've been selected to take a look. The Elves have even given you a map; on it, they've used stars to mark the top fifty locations that are likely to be having problems.\n",
    "\n",
    "You've been doing this long enough to know that to restore snow operations, you need to check all fifty stars by December 25th.\n",
    "\n",
    "Collect stars by solving puzzles. Two puzzles will be made available on each day in the Advent calendar; the second puzzle is unlocked when you complete the first. Each puzzle grants one star. Good luck!\n",
    "\n",
    "You try to ask why they can't just use a weather machine (\"not powerful enough\") and where they're even sending you (\"the sky\") and why your map looks mostly blank (\"you sure ask a lot of questions\") and hang on did you just say the sky (\"of course, where do you think snow comes from\") when you realize that the Elves are already loading you into a trebuchet (\"please hold still, we need to strap you in\").\n",
    "\n",
    "As they're making the final adjustments, they discover that their calibration document (your puzzle input) has been amended by a very young Elf who was apparently just excited to show off her art skills. Consequently, the Elves are having trouble reading the values on the document.\n",
    "\n",
    "The newly-improved calibration document consists of lines of text; each line originally contained a specific calibration value that the Elves now need to recover. On each line, the calibration value can be found by combining the first digit and the last digit (in that order) to form a single two-digit number.\n",
    "\n",
    "For example:\n",
    "```\n",
    "1abc2\n",
    "pqr3stu8vwx\n",
    "a1b2c3d4e5f\n",
    "treb7uchet\n",
    "```\n",
    "In this example, the calibration values of these four lines are 12, 38, 15, and 77. Adding these together produces 142.\n",
    "\n",
    "Consider your entire calibration document. What is the sum of all of the calibration values?"
   ]
  },
  {
   "cell_type": "code",
   "execution_count": 20,
   "id": "06dcdd5c",
   "metadata": {},
   "outputs": [],
   "source": [
    "f = open(\"./input1.txt\")\n",
    "contents = split(read(f, String))\n",
    "close(f)"
   ]
  },
  {
   "cell_type": "code",
   "execution_count": 21,
   "id": "5a269656",
   "metadata": {},
   "outputs": [
    {
     "data": {
      "text/plain": [
       "firstandlast (generic function with 2 methods)"
      ]
     },
     "execution_count": 21,
     "metadata": {},
     "output_type": "execute_result"
    }
   ],
   "source": [
    "function getfirst(ln::AbstractString, candidates)\n",
    "    for last = firstindex(ln):lastindex(ln)\n",
    "        for candidate in candidates\n",
    "            if occursin(candidate, ln[begin:last])\n",
    "                return candidate\n",
    "            end\n",
    "        end\n",
    "    end\n",
    "    nothing\n",
    "end\n",
    "\n",
    "function getlast(ln::AbstractString, candidates)\n",
    "    r = getfirst(reverse(ln), reverse.(candidates))\n",
    "    if r != nothing\n",
    "        return reverse(r)\n",
    "    end\n",
    "    r\n",
    "end\n",
    "\n",
    "function firstandlast(ln, mappings...)\n",
    "    d = Dict(mappings...)\n",
    "    candidates = keys(d)\n",
    "    first = getfirst(ln, candidates)\n",
    "    last = getlast(ln, candidates)\n",
    "    if first != nothing && last != nothing\n",
    "        return get(d, first, 0) * 10 + get(d, last, 0)\n",
    "    end\n",
    "    0\n",
    "end\n"
   ]
  },
  {
   "cell_type": "code",
   "execution_count": 22,
   "id": "77800377",
   "metadata": {},
   "outputs": [
    {
     "data": {
      "text/plain": [
       "55172"
      ]
     },
     "execution_count": 22,
     "metadata": {},
     "output_type": "execute_result"
    }
   ],
   "source": [
    "sum(map(ln -> firstandlast(ln, \"1\" => 1, \"2\" => 2, \"3\" => 3, \"4\" => 4, \"5\" => 5, \"6\" => 6, \"7\" => 7, \"8\" => 8, \"9\" => 9), contents))"
   ]
  },
  {
   "cell_type": "markdown",
   "id": "9d7eecaf",
   "metadata": {},
   "source": [
    "#### Part Two\n",
    "Your calculation isn't quite right. It looks like some of the digits are actually spelled out with letters: one, two, three, four, five, six, seven, eight, and nine also count as valid \"digits\".\n",
    "\n",
    "Equipped with this new information, you now need to find the real first and last digit on each line. For example:\n",
    "\n",
    "```\n",
    "two1nine\n",
    "eightwothree\n",
    "abcone2threexyz\n",
    "xtwone3four\n",
    "4nineeightseven2\n",
    "zoneight234\n",
    "7pqrstsixteen\n",
    "```\n",
    "In this example, the calibration values are 29, 83, 13, 24, 42, 14, and 76. Adding these together produces 281.\n",
    "\n",
    "What is the sum of all of the calibration values?"
   ]
  },
  {
   "cell_type": "code",
   "execution_count": 23,
   "id": "900e43db",
   "metadata": {},
   "outputs": [
    {
     "data": {
      "text/plain": [
       "54925"
      ]
     },
     "execution_count": 23,
     "metadata": {},
     "output_type": "execute_result"
    }
   ],
   "source": [
    "sum(map(ln -> firstandlast(\n",
    "        ln,\n",
    "        \"1\" => 1, \"one\" => 1, \"2\" => 2, \"two\" => 2, \"3\" => 3, \"three\" => 3, \"4\" => 4, \"four\" => 4,\n",
    "        \"5\" => 5, \"five\" => 5, \"6\" => 6, \"six\" => 6, \"7\" => 7, \"seven\" => 7, \"8\" => 8, \"eight\" => 8,\n",
    "        \"9\" => 9, \"nine\" => 9\n",
    "    ), contents))"
   ]
  }
 ],
 "metadata": {
  "kernelspec": {
   "display_name": "Julia 1.9.4",
   "language": "julia",
   "name": "julia-1.9"
  },
  "language_info": {
   "file_extension": ".jl",
   "mimetype": "application/julia",
   "name": "julia",
   "version": "1.9.4"
  }
 },
 "nbformat": 4,
 "nbformat_minor": 5
}
