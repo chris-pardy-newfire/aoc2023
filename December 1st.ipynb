{
 "cells": [
  {
   "cell_type": "markdown",
   "id": "f8386487-6c72-4592-bd51-8080aa0d31c0",
   "metadata": {},
   "source": [
    "# Advent of Code 2023"
   ]
  },
  {
   "cell_type": "markdown",
   "id": "03a38064-7736-46b5-a05f-898aadf14be8",
   "metadata": {},
   "source": [
    "## December 1st"
   ]
  },
  {
   "cell_type": "code",
   "execution_count": 2,
   "id": "e4bfddbe",
   "metadata": {},
   "outputs": [
    {
     "name": "stdout",
     "output_type": "stream",
     "text": [
      "Hello World\n"
     ]
    }
   ],
   "source": [
    "include(\"./hello-world.jl\")"
   ]
  },
  {
   "cell_type": "markdown",
   "id": "37e316cc",
   "metadata": {},
   "source": [
    "First we define a variable in the scope of the notebook"
   ]
  },
  {
   "cell_type": "code",
   "execution_count": 3,
   "id": "61ef9e06",
   "metadata": {},
   "outputs": [
    {
     "data": {
      "text/plain": [
       "\"Hello World\""
      ]
     },
     "execution_count": 3,
     "metadata": {},
     "output_type": "execute_result"
    }
   ],
   "source": [
    "greeting = \"Hello World\""
   ]
  },
  {
   "cell_type": "markdown",
   "id": "48e20452",
   "metadata": {},
   "source": [
    "Then we use the variable in a different code block"
   ]
  },
  {
   "cell_type": "code",
   "execution_count": 4,
   "id": "0bf1e551",
   "metadata": {},
   "outputs": [
    {
     "name": "stdout",
     "output_type": "stream",
     "text": [
      "Hello World\n"
     ]
    }
   ],
   "source": [
    "println(greeting)"
   ]
  }
 ],
 "metadata": {
  "kernelspec": {
   "display_name": "Julia 1.9.4",
   "language": "julia",
   "name": "julia-1.9"
  },
  "language_info": {
   "file_extension": ".jl",
   "mimetype": "application/julia",
   "name": "julia",
   "version": "1.9.4"
  }
 },
 "nbformat": 4,
 "nbformat_minor": 5
}
