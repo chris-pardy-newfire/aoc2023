{
 "cells": [
  {
   "cell_type": "markdown",
   "id": "fb3f3155",
   "metadata": {},
   "source": [
    "# Day 1: Trebuchet?!"
   ]
  },
  {
   "cell_type": "markdown",
   "id": "91a76e1f",
   "metadata": {},
   "source": [
    "## Part 1"
   ]
  },
  {
   "cell_type": "markdown",
   "id": "51ec7af8",
   "metadata": {},
   "source": [
    "Something is wrong with global snow production, and you've been selected to take a look. The Elves have even given you a map; on it, they've used stars to mark the top fifty locations that are likely to be having problems.\n",
    "\n",
    "You've been doing this long enough to know that to restore snow operations, you need to check all fifty stars by December 25th.\n",
    "\n",
    "Collect stars by solving puzzles. Two puzzles will be made available on each day in the Advent calendar; the second puzzle is unlocked when you complete the first. Each puzzle grants one star. Good luck!\n",
    "\n",
    "You try to ask why they can't just use a weather machine (\"not powerful enough\") and where they're even sending you (\"the sky\") and why your map looks mostly blank (\"you sure ask a lot of questions\") and hang on did you just say the sky (\"of course, where do you think snow comes from\") when you realize that the Elves are already loading you into a trebuchet (\"please hold still, we need to strap you in\").\n",
    "\n",
    "As they're making the final adjustments, they discover that their calibration document (your puzzle input) has been amended by a very young Elf who was apparently just excited to show off her art skills. Consequently, the Elves are having trouble reading the values on the document.\n",
    "\n",
    "The newly-improved calibration document consists of lines of text; each line originally contained a specific calibration value that the Elves now need to recover. On each line, the calibration value can be found by combining the first digit and the last digit (in that order) to form a single two-digit number.\n",
    "\n",
    "For example:"
   ]
  },
  {
   "cell_type": "code",
   "execution_count": 37,
   "id": "1d9a6527",
   "metadata": {},
   "outputs": [
    {
     "data": {
      "text/plain": [
       "4-element Vector{String}:\n",
       " \"1abc2\"\n",
       " \"pqr3stu8vwx\"\n",
       " \"a1b2c3d4e5f\"\n",
       " \"treb7uchet\""
      ]
     },
     "execution_count": 37,
     "metadata": {},
     "output_type": "execute_result"
    }
   ],
   "source": [
    "partoneexampleinput = [\n",
    "    \"1abc2\",\n",
    "    \"pqr3stu8vwx\",\n",
    "    \"a1b2c3d4e5f\",\n",
    "    \"treb7uchet\"\n",
    "]"
   ]
  },
  {
   "cell_type": "markdown",
   "id": "f6e1fb17",
   "metadata": {},
   "source": [
    "In this example, the calibration values of these four lines are 12, 38, 15, and 77. Adding these together produces 142.\n",
    "\n",
    "Consider your entire calibration document. What is the sum of all of the calibration values?"
   ]
  },
  {
   "cell_type": "code",
   "execution_count": 38,
   "id": "7b07ca39",
   "metadata": {},
   "outputs": [
    {
     "data": {
      "text/plain": [
       "firstandlast (generic function with 1 method)"
      ]
     },
     "execution_count": 38,
     "metadata": {},
     "output_type": "execute_result"
    }
   ],
   "source": [
    "function getfirst(ln::AbstractString, candidates)\n",
    "    for last = firstindex(ln):lastindex(ln)\n",
    "        for candidate in candidates\n",
    "            if occursin(candidate, ln[begin:last])\n",
    "                return candidate\n",
    "            end\n",
    "        end\n",
    "    end\n",
    "    nothing\n",
    "end\n",
    "\n",
    "function getlast(ln::AbstractString, candidates)\n",
    "    r = getfirst(reverse(ln), reverse.(candidates))\n",
    "    if r != nothing\n",
    "        return reverse(r)\n",
    "    end\n",
    "    r\n",
    "end\n",
    "\n",
    "function firstandlast(ln, mappings...)\n",
    "    d = Dict(mappings...)\n",
    "    candidates = keys(d)\n",
    "    first = getfirst(ln, candidates)\n",
    "    last = getlast(ln, candidates)\n",
    "    if first != nothing && last != nothing\n",
    "        return get(d, first, 0) * 10 + get(d, last, 0)\n",
    "    end\n",
    "    0\n",
    "end"
   ]
  },
  {
   "cell_type": "code",
   "execution_count": 39,
   "id": "6264e726",
   "metadata": {},
   "outputs": [
    {
     "data": {
      "text/plain": [
       "142"
      ]
     },
     "execution_count": 39,
     "metadata": {},
     "output_type": "execute_result"
    }
   ],
   "source": [
    "function partone(contents)\n",
    "    sum(map(ln -> firstandlast(ln, \"1\" => 1, \"2\" => 2, \"3\" => 3, \"4\" => 4, \"5\" => 5, \"6\" => 6, \"7\" => 7, \"8\" => 8, \"9\" => 9), contents))\n",
    "end\n",
    "\n",
    "partone(partoneexampleinput)"
   ]
  },
  {
   "cell_type": "markdown",
   "id": "9d7eecaf",
   "metadata": {},
   "source": [
    "## Part Two"
   ]
  },
  {
   "cell_type": "markdown",
   "id": "e6437966",
   "metadata": {},
   "source": [
    "Your calculation isn't quite right. It looks like some of the digits are actually spelled out with letters: one, two, three, four, five, six, seven, eight, and nine also count as valid \"digits\".\n",
    "\n",
    "Equipped with this new information, you now need to find the real first and last digit on each line. For example:"
   ]
  },
  {
   "cell_type": "code",
   "execution_count": 40,
   "id": "63dffc1d",
   "metadata": {},
   "outputs": [
    {
     "data": {
      "text/plain": [
       "7-element Vector{String}:\n",
       " \"two1nine\"\n",
       " \"eightwothree\"\n",
       " \"abcone2threexyz\"\n",
       " \"xtwone3four\"\n",
       " \"4nineeightseven2\"\n",
       " \"zoneight234\"\n",
       " \"7pqrstsixteen\""
      ]
     },
     "execution_count": 40,
     "metadata": {},
     "output_type": "execute_result"
    }
   ],
   "source": [
    "parttwoexampleinput = [\n",
    "    \"two1nine\",\n",
    "    \"eightwothree\",\n",
    "    \"abcone2threexyz\",\n",
    "    \"xtwone3four\",\n",
    "    \"4nineeightseven2\",\n",
    "    \"zoneight234\",\n",
    "    \"7pqrstsixteen\"\n",
    "]"
   ]
  },
  {
   "cell_type": "markdown",
   "id": "508c0078",
   "metadata": {},
   "source": [
    "In this example, the calibration values are 29, 83, 13, 24, 42, 14, and 76. Adding these together produces 281.\n",
    "\n",
    "What is the sum of all of the calibration values?"
   ]
  },
  {
   "cell_type": "code",
   "execution_count": 41,
   "id": "900e43db",
   "metadata": {},
   "outputs": [
    {
     "data": {
      "text/plain": [
       "281"
      ]
     },
     "execution_count": 41,
     "metadata": {},
     "output_type": "execute_result"
    }
   ],
   "source": [
    "function parttwo(contents)\n",
    "    sum(map(ln -> firstandlast(\n",
    "            ln,\n",
    "            \"1\" => 1, \"one\" => 1, \"2\" => 2, \"two\" => 2, \"3\" => 3, \"three\" => 3, \"4\" => 4, \"four\" => 4,\n",
    "            \"5\" => 5, \"five\" => 5, \"6\" => 6, \"six\" => 6, \"7\" => 7, \"seven\" => 7, \"8\" => 8, \"eight\" => 8,\n",
    "            \"9\" => 9, \"nine\" => 9\n",
    "        ), contents))\n",
    "end\n",
    "parttwo(parttwoexampleinput)"
   ]
  },
  {
   "cell_type": "markdown",
   "id": "f50a8141",
   "metadata": {},
   "source": [
    "## Results"
   ]
  },
  {
   "cell_type": "code",
   "execution_count": 42,
   "id": "06dcdd5c",
   "metadata": {},
   "outputs": [
    {
     "name": "stdout",
     "output_type": "stream",
     "text": [
      "55172\n",
      "54925\n"
     ]
    }
   ],
   "source": [
    "include(\"./aoc.jl\")\n",
    "execute(1, partone, parttwo)"
   ]
  }
 ],
 "metadata": {
  "kernelspec": {
   "display_name": "Julia 1.9.4",
   "language": "julia",
   "name": "julia-1.9"
  },
  "language_info": {
   "file_extension": ".jl",
   "mimetype": "application/julia",
   "name": "julia",
   "version": "1.9.4"
  }
 },
 "nbformat": 4,
 "nbformat_minor": 5
}
