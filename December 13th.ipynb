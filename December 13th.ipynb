{
 "cells": [
  {
   "cell_type": "markdown",
   "metadata": {},
   "source": [
    "# December 13th"
   ]
  },
  {
   "cell_type": "markdown",
   "metadata": {},
   "source": [
    "Finding the point of reflection on either (both?) the horizontal or vertical axis.\n",
    "Julia supports 2 dimensional arrays which we want to use to create this"
   ]
  },
  {
   "cell_type": "code",
   "execution_count": 79,
   "metadata": {},
   "outputs": [
    {
     "data": {
      "text/plain": [
       "15-element Vector{String}:\n",
       " \"#.##..##.\"\n",
       " \"..#.##.#.\"\n",
       " \"##......#\"\n",
       " \"##......#\"\n",
       " \"..#.##.#.\"\n",
       " \"..##..##.\"\n",
       " \"#.#.##.#.\"\n",
       " \"\"\n",
       " \"#...##..#\"\n",
       " \"#....#..#\"\n",
       " \"..##..###\"\n",
       " \"#####.##.\"\n",
       " \"#####.##.\"\n",
       " \"..##..###\"\n",
       " \"#....#..#\""
      ]
     },
     "execution_count": 79,
     "metadata": {},
     "output_type": "execute_result"
    }
   ],
   "source": [
    "example = [\n",
    "    \"#.##..##.\",\n",
    "    \"..#.##.#.\",\n",
    "    \"##......#\",\n",
    "    \"##......#\",\n",
    "    \"..#.##.#.\",\n",
    "    \"..##..##.\",\n",
    "    \"#.#.##.#.\",\n",
    "    \"\",\n",
    "    \"#...##..#\",\n",
    "    \"#....#..#\",\n",
    "    \"..##..###\",\n",
    "    \"#####.##.\",\n",
    "    \"#####.##.\",\n",
    "    \"..##..###\",\n",
    "    \"#....#..#\"\n",
    "]"
   ]
  },
  {
   "cell_type": "code",
   "execution_count": 80,
   "metadata": {},
   "outputs": [
    {
     "name": "stdout",
     "output_type": "stream",
     "text": [
      "Any[Bool[0 1 0 0 1 1 0; 1 1 0 0 1 1 1; 0 0 1 1 0 0 0; 0 1 1 1 1 0 1; 1 0 1 1 0 1 0; 1 0 1 1 0 1 0; 0 1 1 1 1 0 1; 0 0 1 1 0 0 0; 1 1 0 0 1 1 1], Bool[0 0 1 0 0 1 0; 1 1 1 0 0 1 1; 1 1 0 0 0 0 1; 1 1 0 0 0 0 1; 0 1 1 0 0 1 1; 0 0 1 1 1 1 0; 1 1 0 0 0 0 1; 1 1 0 0 0 0 1; 0 0 0 1 1 0 0]]\n"
     ]
    }
   ],
   "source": [
    "## turn this into an array of 2 dimensional arrays, use booleans for values\n",
    "function parsecontents(contents)\n",
    "    results = []\n",
    "    block = []\n",
    "    for content in contents\n",
    "        if content == \"\"\n",
    "            push!(results, hcat(block...))\n",
    "            block = []\n",
    "        else\n",
    "            push!(block, [v == '.' for v in content])\n",
    "        end\n",
    "    end\n",
    "    push!(results, hcat(block...))\n",
    "    results\n",
    "end\n",
    "\n",
    "println(parsecontents(example))"
   ]
  },
  {
   "cell_type": "markdown",
   "metadata": {},
   "source": [
    "We can solve the reflection point iteratively with O(n) and use the dimension factor in Julia to evaluate everything"
   ]
  },
  {
   "cell_type": "code",
   "execution_count": 81,
   "metadata": {},
   "outputs": [
    {
     "name": "stdout",
     "output_type": "stream",
     "text": [
      "5\n",
      "0\n",
      "0\n",
      "4\n"
     ]
    }
   ],
   "source": [
    "function findreflection(grid, d)\n",
    "    ## don't go all the way to the end\n",
    "    for i in firstindex(grid, d):(lastindex(grid, d)-1)\n",
    "        ## candidate for reflection\n",
    "        if selectdim(grid, d, i) == selectdim(grid, d, i + 1)\n",
    "            ## go as far back and forward as possible to find reflected values\n",
    "            if all(\n",
    "                t -> t[1] == t[2],\n",
    "                zip(\n",
    "                    ## look back\n",
    "                    map(\n",
    "                        b -> selectdim(grid, d, b),\n",
    "                        range(i - 1, firstindex(grid, d), step=-1)\n",
    "                    ),\n",
    "                    ## look forward\n",
    "                    map(\n",
    "                        f -> selectdim(grid, d, f),\n",
    "                        range(i + 2, lastindex(grid, d))\n",
    "                    )\n",
    "                ))\n",
    "                return i\n",
    "            end\n",
    "        end\n",
    "    end\n",
    "    return 0\n",
    "end\n",
    "\n",
    "println(findreflection(parsecontents(example)[1], 1))\n",
    "println(findreflection(parsecontents(example)[1], 2))\n",
    "println(findreflection(parsecontents(example)[2], 1))\n",
    "println(findreflection(parsecontents(example)[2], 2))"
   ]
  },
  {
   "cell_type": "markdown",
   "metadata": {},
   "source": [
    "Solve Part one"
   ]
  },
  {
   "cell_type": "code",
   "execution_count": 82,
   "metadata": {},
   "outputs": [
    {
     "data": {
      "text/plain": [
       "true"
      ]
     },
     "execution_count": 82,
     "metadata": {},
     "output_type": "execute_result"
    }
   ],
   "source": [
    "function partone(contents)\n",
    "    parsed = parsecontents(contents)\n",
    "    sum(\n",
    "        grid -> findreflection(grid, 1) + findreflection(grid, 2) * 100,\n",
    "        parsed\n",
    "    )\n",
    "end\n",
    "\n",
    "partone(example) == 405"
   ]
  },
  {
   "cell_type": "markdown",
   "metadata": {},
   "source": [
    "## Part Two"
   ]
  },
  {
   "cell_type": "markdown",
   "metadata": {},
   "source": [
    "Oh no there's smudges!\n",
    "There's exactly one smudge in each input we'll need to write a smudge comparator"
   ]
  },
  {
   "cell_type": "code",
   "execution_count": 83,
   "metadata": {},
   "outputs": [
    {
     "data": {
      "text/plain": [
       "issmudgedreflection (generic function with 1 method)"
      ]
     },
     "execution_count": 83,
     "metadata": {},
     "output_type": "execute_result"
    }
   ],
   "source": [
    "\n",
    "function issmudged(patterna, patternb, allowedsmudges)\n",
    "    let smudges = 0\n",
    "        for (a, b) in zip(patterna, patternb)\n",
    "            if a != b\n",
    "                if smudges < allowedsmudges\n",
    "                    smudges += 1\n",
    "                else\n",
    "                    return 0\n",
    "                end\n",
    "            end\n",
    "        end\n",
    "        if smudges == 0\n",
    "            return 1\n",
    "        elseif smudges == allowedsmudges\n",
    "            return 2\n",
    "        else\n",
    "            return 0\n",
    "        end\n",
    "    end\n",
    "end\n",
    "\n",
    "issmudged([true, false, true, false], [false, false, true, false], 1)\n",
    "\n",
    "function issmudgedreflection(grid, fold, d, allowedsmudges)\n",
    "    let smudges = 0\n",
    "        for r in\n",
    "            map(t -> issmudged(t[1], t[2], allowedsmudges), zip(\n",
    "            ## look back\n",
    "            map(\n",
    "                b -> selectdim(grid, d, b),\n",
    "                range(fold, firstindex(grid, d), step=-1)\n",
    "            ),\n",
    "            ## look forward\n",
    "            map(\n",
    "                f -> selectdim(grid, d, f),\n",
    "                range(fold + 1, lastindex(grid, d))\n",
    "            )\n",
    "        ))\n",
    "            if r == 0\n",
    "                return false\n",
    "            elseif r == 2\n",
    "                if smudges < allowedsmudges\n",
    "                    smudges += 1\n",
    "                else\n",
    "                    return false\n",
    "                end\n",
    "            end\n",
    "        end\n",
    "        return smudges == allowedsmudges\n",
    "    end\n",
    "end"
   ]
  },
  {
   "cell_type": "code",
   "execution_count": 84,
   "metadata": {},
   "outputs": [
    {
     "name": "stdout",
     "output_type": "stream",
     "text": [
      "5\n",
      "0\n",
      "0\n",
      "4\n"
     ]
    }
   ],
   "source": [
    "function findreflection(grid, d, allowedsmudges)\n",
    "    ## don't go all the way to the end\n",
    "    for i in firstindex(grid, d):(lastindex(grid, d)-1)\n",
    "        ## candidate for reflection\n",
    "        if issmudged(selectdim(grid, d, i), selectdim(grid, d, i + 1), allowedsmudges) != 0\n",
    "            ## go as far back and forward as possible to find reflected values\n",
    "            if issmudgedreflection(grid, i, d, allowedsmudges)\n",
    "                return i\n",
    "            end\n",
    "        end\n",
    "    end\n",
    "    return 0\n",
    "end\n",
    "\n",
    "println(findreflection(parsecontents(example)[1], 1))\n",
    "println(findreflection(parsecontents(example)[1], 2))\n",
    "println(findreflection(parsecontents(example)[2], 1))\n",
    "println(findreflection(parsecontents(example)[2], 2))"
   ]
  },
  {
   "cell_type": "code",
   "execution_count": 85,
   "metadata": {},
   "outputs": [
    {
     "data": {
      "text/plain": [
       "true"
      ]
     },
     "execution_count": 85,
     "metadata": {},
     "output_type": "execute_result"
    }
   ],
   "source": [
    "function parttwo(contents)\n",
    "    parsed = parsecontents(contents)\n",
    "    sum(\n",
    "        grid -> findreflection(grid, 1, 1) + findreflection(grid, 2, 1) * 100,\n",
    "        parsed\n",
    "    )\n",
    "end\n",
    "\n",
    "parttwo(example) == 400"
   ]
  },
  {
   "cell_type": "markdown",
   "metadata": {},
   "source": [
    "## Results"
   ]
  },
  {
   "cell_type": "code",
   "execution_count": 86,
   "metadata": {},
   "outputs": [
    {
     "name": "stdout",
     "output_type": "stream",
     "text": [
      "27502\n"
     ]
    }
   ],
   "source": [
    "include(\"./aoc.jl\")\n",
    "\n",
    "execute(13, partone, parttwo; keepempty=true)"
   ]
  }
 ],
 "metadata": {
  "kernelspec": {
   "display_name": "Julia 1.9.4",
   "language": "julia",
   "name": "julia-1.9"
  },
  "language_info": {
   "file_extension": ".jl",
   "mimetype": "application/julia",
   "name": "julia",
   "version": "1.9.4"
  }
 },
 "nbformat": 4,
 "nbformat_minor": 2
}
